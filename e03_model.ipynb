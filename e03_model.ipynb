{
 "cells": [
  {
   "cell_type": "markdown",
   "metadata": {},
   "source": [
    "# Libraries"
   ]
  },
  {
   "cell_type": "code",
   "execution_count": 1,
   "metadata": {},
   "outputs": [],
   "source": [
    "# Basics\n",
    "import pandas as pd\n",
    "import numpy as np\n",
    "\n",
    "# Visualization\n",
    "import matplotlib.pyplot as plt\n",
    "from matplotlib.lines import Line2D\n",
    "import seaborn as sns\n",
    "sns.set_style('darkgrid')\n",
    "\n",
    "# Others\n",
    "import openpyxl\n",
    "import xlrd\n",
    "import os\n",
    "import io\n",
    "import warnings\n",
    "import statistics"
   ]
  },
  {
   "cell_type": "code",
   "execution_count": 2,
   "metadata": {},
   "outputs": [],
   "source": [
    "# Metrics from Sklearn\n",
    "from sklearn import metrics\n",
    "from sklearn import set_config\n",
    "from sklearn.model_selection import train_test_split, cross_val_score\n",
    "from sklearn.metrics import mean_squared_error, mean_absolute_error\n",
    "from sklearn.pipeline import Pipeline\n",
    "from sklearn.preprocessing import StandardScaler\n",
    "from sklearn.preprocessing import MinMaxScaler\n",
    "\n",
    "# Models Regression from Sklearn\n",
    "from sklearn import linear_model\n",
    "from sklearn.linear_model import LinearRegression\n",
    "from sklearn.linear_model import RANSACRegressor\n",
    "from sklearn.linear_model import Ridge\n",
    "from sklearn.linear_model import Lasso\n",
    "from sklearn.linear_model import ElasticNet\n",
    "from sklearn.preprocessing import PolynomialFeatures\n",
    "from sklearn.linear_model import SGDRegressor\n",
    "from sklearn.ensemble import RandomForestRegressor\n",
    "from sklearn.svm import SVR"
   ]
  },
  {
   "cell_type": "code",
   "execution_count": 3,
   "metadata": {},
   "outputs": [],
   "source": [
    "# Regression\n",
    "from statsmodels.genmod.generalized_linear_model import GLM\n",
    "from statsmodels.genmod import families\n",
    "import statsmodels.api as sm\n",
    "import statsmodels.formula.api as smf"
   ]
  },
  {
   "cell_type": "code",
   "execution_count": 4,
   "metadata": {},
   "outputs": [],
   "source": [
    "import warnings\n",
    "warnings.filterwarnings(\"ignore\", category = DeprecationWarning)\n",
    "warnings.filterwarnings(\"ignore\", category = FutureWarning)\n",
    "warnings.filterwarnings(\"ignore\", category = UserWarning)"
   ]
  },
  {
   "cell_type": "code",
   "execution_count": 5,
   "metadata": {},
   "outputs": [],
   "source": [
    "pd.set_option(\"display.max_columns\", None)\n",
    "pd.set_option(\"display.max_rows\", None)\n",
    "pd.set_option('display.float_format', lambda x: '%.3f' % x)\n",
    "set_config(display=\"text\")  # displays text representation of estimators\n",
    "plt.rcParams[\"figure.figsize\"] = [7.2, 4.8]"
   ]
  },
  {
   "cell_type": "markdown",
   "metadata": {},
   "source": [
    "# Input Dataset for Model"
   ]
  },
  {
   "cell_type": "code",
   "execution_count": 6,
   "metadata": {},
   "outputs": [
    {
     "data": {
      "text/plain": [
       "(1146857, 24)"
      ]
     },
     "execution_count": 6,
     "metadata": {},
     "output_type": "execute_result"
    }
   ],
   "source": [
    "# Dados dos empregados com vinculo ativo em 31/12 apenas da industria da transformação do ano de 2021\n",
    "df_ind_trans = pd.read_csv(r\"DF_Industria_tranformacao_2021.csv\", sep=\";\", encoding='UTF-8', low_memory=False)\n",
    "df_ind_trans.shape"
   ]
  },
  {
   "cell_type": "code",
   "execution_count": 7,
   "metadata": {},
   "outputs": [
    {
     "data": {
      "text/html": [
       "<div>\n",
       "<style scoped>\n",
       "    .dataframe tbody tr th:only-of-type {\n",
       "        vertical-align: middle;\n",
       "    }\n",
       "\n",
       "    .dataframe tbody tr th {\n",
       "        vertical-align: top;\n",
       "    }\n",
       "\n",
       "    .dataframe thead th {\n",
       "        text-align: right;\n",
       "    }\n",
       "</style>\n",
       "<table border=\"1\" class=\"dataframe\">\n",
       "  <thead>\n",
       "    <tr style=\"text-align: right;\">\n",
       "      <th></th>\n",
       "      <th>id</th>\n",
       "      <th>Faixa_Etária</th>\n",
       "      <th>Faixa_Hora_Contrat</th>\n",
       "      <th>Faixa_Tempo_Emprego</th>\n",
       "      <th>Escolaridade_após_2005</th>\n",
       "      <th>Qtd_Hora_Contr</th>\n",
       "      <th>Idade</th>\n",
       "      <th>Ind_Simples</th>\n",
       "      <th>Ind_Portador_Defic</th>\n",
       "      <th>Qtd_Dias_Afastamento</th>\n",
       "      <th>Raça_Cor</th>\n",
       "      <th>Vl_Remun_Dezembro_Nom</th>\n",
       "      <th>Sexo_Trabalhador</th>\n",
       "      <th>Tamanho_Estabelecimento</th>\n",
       "      <th>Tempo_Emprego</th>\n",
       "      <th>Tipo_Admissão</th>\n",
       "      <th>Tipo_Defic</th>\n",
       "      <th>Ind_Trab_Intermitente</th>\n",
       "      <th>Ind_Trab_Parcial</th>\n",
       "      <th>CNAE_2.0_Subclasse_targetencoder_</th>\n",
       "      <th>Tipo_Vínculo_targetencoder_</th>\n",
       "      <th>IBGE_Subsetor_targetencoder_</th>\n",
       "      <th>CBO_targetencoder_</th>\n",
       "      <th>cidades_targetencoder_</th>\n",
       "    </tr>\n",
       "  </thead>\n",
       "  <tbody>\n",
       "    <tr>\n",
       "      <th>0</th>\n",
       "      <td>0</td>\n",
       "      <td>7</td>\n",
       "      <td>6</td>\n",
       "      <td>3</td>\n",
       "      <td>1</td>\n",
       "      <td>44</td>\n",
       "      <td>50</td>\n",
       "      <td>1</td>\n",
       "      <td>0</td>\n",
       "      <td>0</td>\n",
       "      <td>4</td>\n",
       "      <td>1372.730</td>\n",
       "      <td>1</td>\n",
       "      <td>4</td>\n",
       "      <td>7.300</td>\n",
       "      <td>2</td>\n",
       "      <td>0</td>\n",
       "      <td>0</td>\n",
       "      <td>0</td>\n",
       "      <td>2012.803</td>\n",
       "      <td>3363.495</td>\n",
       "      <td>2012.400</td>\n",
       "      <td>2455.315</td>\n",
       "      <td>2662.986</td>\n",
       "    </tr>\n",
       "    <tr>\n",
       "      <th>1</th>\n",
       "      <td>1</td>\n",
       "      <td>7</td>\n",
       "      <td>1</td>\n",
       "      <td>6</td>\n",
       "      <td>1</td>\n",
       "      <td>1</td>\n",
       "      <td>61</td>\n",
       "      <td>0</td>\n",
       "      <td>0</td>\n",
       "      <td>20</td>\n",
       "      <td>2</td>\n",
       "      <td>1340.190</td>\n",
       "      <td>1</td>\n",
       "      <td>7</td>\n",
       "      <td>37.600</td>\n",
       "      <td>0</td>\n",
       "      <td>0</td>\n",
       "      <td>0</td>\n",
       "      <td>0</td>\n",
       "      <td>3221.220</td>\n",
       "      <td>3363.495</td>\n",
       "      <td>4149.241</td>\n",
       "      <td>4420.601</td>\n",
       "      <td>3183.867</td>\n",
       "    </tr>\n",
       "    <tr>\n",
       "      <th>2</th>\n",
       "      <td>2</td>\n",
       "      <td>8</td>\n",
       "      <td>5</td>\n",
       "      <td>6</td>\n",
       "      <td>1</td>\n",
       "      <td>36</td>\n",
       "      <td>68</td>\n",
       "      <td>0</td>\n",
       "      <td>0</td>\n",
       "      <td>62</td>\n",
       "      <td>8</td>\n",
       "      <td>2263.800</td>\n",
       "      <td>1</td>\n",
       "      <td>7</td>\n",
       "      <td>38.900</td>\n",
       "      <td>0</td>\n",
       "      <td>0</td>\n",
       "      <td>0</td>\n",
       "      <td>0</td>\n",
       "      <td>3221.220</td>\n",
       "      <td>3363.495</td>\n",
       "      <td>4149.241</td>\n",
       "      <td>4420.601</td>\n",
       "      <td>3183.867</td>\n",
       "    </tr>\n",
       "    <tr>\n",
       "      <th>3</th>\n",
       "      <td>3</td>\n",
       "      <td>4</td>\n",
       "      <td>6</td>\n",
       "      <td>3</td>\n",
       "      <td>1</td>\n",
       "      <td>44</td>\n",
       "      <td>28</td>\n",
       "      <td>1</td>\n",
       "      <td>0</td>\n",
       "      <td>0</td>\n",
       "      <td>2</td>\n",
       "      <td>2083.360</td>\n",
       "      <td>1</td>\n",
       "      <td>3</td>\n",
       "      <td>6.100</td>\n",
       "      <td>2</td>\n",
       "      <td>0</td>\n",
       "      <td>0</td>\n",
       "      <td>0</td>\n",
       "      <td>2231.034</td>\n",
       "      <td>3363.495</td>\n",
       "      <td>1877.463</td>\n",
       "      <td>2210.861</td>\n",
       "      <td>1971.877</td>\n",
       "    </tr>\n",
       "    <tr>\n",
       "      <th>4</th>\n",
       "      <td>4</td>\n",
       "      <td>7</td>\n",
       "      <td>6</td>\n",
       "      <td>3</td>\n",
       "      <td>1</td>\n",
       "      <td>44</td>\n",
       "      <td>64</td>\n",
       "      <td>0</td>\n",
       "      <td>0</td>\n",
       "      <td>172</td>\n",
       "      <td>4</td>\n",
       "      <td>1417.420</td>\n",
       "      <td>1</td>\n",
       "      <td>6</td>\n",
       "      <td>9.600</td>\n",
       "      <td>2</td>\n",
       "      <td>0</td>\n",
       "      <td>0</td>\n",
       "      <td>0</td>\n",
       "      <td>3276.079</td>\n",
       "      <td>3363.495</td>\n",
       "      <td>4491.901</td>\n",
       "      <td>1583.565</td>\n",
       "      <td>2785.046</td>\n",
       "    </tr>\n",
       "  </tbody>\n",
       "</table>\n",
       "</div>"
      ],
      "text/plain": [
       "   id  Faixa_Etária  Faixa_Hora_Contrat  Faixa_Tempo_Emprego  \\\n",
       "0   0             7                   6                    3   \n",
       "1   1             7                   1                    6   \n",
       "2   2             8                   5                    6   \n",
       "3   3             4                   6                    3   \n",
       "4   4             7                   6                    3   \n",
       "\n",
       "   Escolaridade_após_2005  Qtd_Hora_Contr  Idade  Ind_Simples  \\\n",
       "0                       1              44     50            1   \n",
       "1                       1               1     61            0   \n",
       "2                       1              36     68            0   \n",
       "3                       1              44     28            1   \n",
       "4                       1              44     64            0   \n",
       "\n",
       "   Ind_Portador_Defic  Qtd_Dias_Afastamento  Raça_Cor  Vl_Remun_Dezembro_Nom  \\\n",
       "0                   0                     0         4               1372.730   \n",
       "1                   0                    20         2               1340.190   \n",
       "2                   0                    62         8               2263.800   \n",
       "3                   0                     0         2               2083.360   \n",
       "4                   0                   172         4               1417.420   \n",
       "\n",
       "   Sexo_Trabalhador  Tamanho_Estabelecimento  Tempo_Emprego  Tipo_Admissão  \\\n",
       "0                 1                        4          7.300              2   \n",
       "1                 1                        7         37.600              0   \n",
       "2                 1                        7         38.900              0   \n",
       "3                 1                        3          6.100              2   \n",
       "4                 1                        6          9.600              2   \n",
       "\n",
       "   Tipo_Defic  Ind_Trab_Intermitente  Ind_Trab_Parcial  \\\n",
       "0           0                      0                 0   \n",
       "1           0                      0                 0   \n",
       "2           0                      0                 0   \n",
       "3           0                      0                 0   \n",
       "4           0                      0                 0   \n",
       "\n",
       "   CNAE_2.0_Subclasse_targetencoder_  Tipo_Vínculo_targetencoder_  \\\n",
       "0                           2012.803                     3363.495   \n",
       "1                           3221.220                     3363.495   \n",
       "2                           3221.220                     3363.495   \n",
       "3                           2231.034                     3363.495   \n",
       "4                           3276.079                     3363.495   \n",
       "\n",
       "   IBGE_Subsetor_targetencoder_  CBO_targetencoder_  cidades_targetencoder_  \n",
       "0                      2012.400            2455.315                2662.986  \n",
       "1                      4149.241            4420.601                3183.867  \n",
       "2                      4149.241            4420.601                3183.867  \n",
       "3                      1877.463            2210.861                1971.877  \n",
       "4                      4491.901            1583.565                2785.046  "
      ]
     },
     "execution_count": 7,
     "metadata": {},
     "output_type": "execute_result"
    }
   ],
   "source": [
    "df_ind_trans.head()"
   ]
  },
  {
   "cell_type": "code",
   "execution_count": 8,
   "metadata": {},
   "outputs": [],
   "source": [
    "df_ind_trans = df_ind_trans.rename(columns={'Escolaridade_após_2005': 'Escolaridade', 'CNAE_2.0_Subclasse_targetencoder_': 'CNAE_Subclasse_targetencoder_'})"
   ]
  },
  {
   "cell_type": "code",
   "execution_count": 9,
   "metadata": {},
   "outputs": [
    {
     "data": {
      "text/plain": [
       "Index(['id', 'Faixa_Etária', 'Faixa_Hora_Contrat', 'Faixa_Tempo_Emprego',\n",
       "       'Escolaridade', 'Qtd_Hora_Contr', 'Idade', 'Ind_Simples',\n",
       "       'Ind_Portador_Defic', 'Qtd_Dias_Afastamento', 'Raça_Cor',\n",
       "       'Vl_Remun_Dezembro_Nom', 'Sexo_Trabalhador', 'Tamanho_Estabelecimento',\n",
       "       'Tempo_Emprego', 'Tipo_Admissão', 'Tipo_Defic', 'Ind_Trab_Intermitente',\n",
       "       'Ind_Trab_Parcial', 'CNAE_Subclasse_targetencoder_',\n",
       "       'Tipo_Vínculo_targetencoder_', 'IBGE_Subsetor_targetencoder_',\n",
       "       'CBO_targetencoder_', 'cidades_targetencoder_'],\n",
       "      dtype='object')"
      ]
     },
     "execution_count": 9,
     "metadata": {},
     "output_type": "execute_result"
    }
   ],
   "source": [
    "df_ind_trans.columns"
   ]
  },
  {
   "cell_type": "code",
   "execution_count": 10,
   "metadata": {},
   "outputs": [],
   "source": [
    "df_ind_trans = df_ind_trans[['id', 'Faixa_Hora_Contrat', \n",
    "       'Escolaridade', 'Qtd_Hora_Contr', 'Idade', 'Ind_Simples',\n",
    "       'Ind_Portador_Defic', 'Raça_Cor',\n",
    "       'Vl_Remun_Dezembro_Nom', 'Sexo_Trabalhador', 'Tamanho_Estabelecimento',\n",
    "       'Tipo_Admissão', 'Tipo_Defic', 'Ind_Trab_Intermitente',\n",
    "       'Ind_Trab_Parcial', 'CNAE_Subclasse_targetencoder_',\n",
    "       'Tipo_Vínculo_targetencoder_', 'IBGE_Subsetor_targetencoder_',\n",
    "       'CBO_targetencoder_', 'cidades_targetencoder_']]"
   ]
  },
  {
   "cell_type": "markdown",
   "metadata": {},
   "source": [
    "# Split Dataset into Train and Test"
   ]
  },
  {
   "cell_type": "code",
   "execution_count": 11,
   "metadata": {},
   "outputs": [
    {
     "data": {
      "text/plain": [
       "(573428, 20)"
      ]
     },
     "execution_count": 11,
     "metadata": {},
     "output_type": "execute_result"
    }
   ],
   "source": [
    "df_model = df_ind_trans.sample(frac = 0.5)\n",
    "df_model.shape"
   ]
  },
  {
   "cell_type": "code",
   "execution_count": 12,
   "metadata": {},
   "outputs": [
    {
     "name": "stderr",
     "output_type": "stream",
     "text": [
      "C:\\Users\\luand\\AppData\\Local\\Temp\\ipykernel_2852\\3788505534.py:2: SettingWithCopyWarning: \n",
      "A value is trying to be set on a copy of a slice from a DataFrame.\n",
      "Try using .loc[row_indexer,col_indexer] = value instead\n",
      "\n",
      "See the caveats in the documentation: https://pandas.pydata.org/pandas-docs/stable/user_guide/indexing.html#returning-a-view-versus-a-copy\n",
      "  df_seleted['Select'] = 1\n"
     ]
    },
    {
     "data": {
      "text/plain": [
       "(573428, 2)"
      ]
     },
     "execution_count": 12,
     "metadata": {},
     "output_type": "execute_result"
    }
   ],
   "source": [
    "df_seleted = df_model[['id']]\n",
    "df_seleted['Select'] = 1\n",
    "df_seleted.shape"
   ]
  },
  {
   "cell_type": "code",
   "execution_count": 13,
   "metadata": {},
   "outputs": [
    {
     "data": {
      "text/html": [
       "<div>\n",
       "<style scoped>\n",
       "    .dataframe tbody tr th:only-of-type {\n",
       "        vertical-align: middle;\n",
       "    }\n",
       "\n",
       "    .dataframe tbody tr th {\n",
       "        vertical-align: top;\n",
       "    }\n",
       "\n",
       "    .dataframe thead th {\n",
       "        text-align: right;\n",
       "    }\n",
       "</style>\n",
       "<table border=\"1\" class=\"dataframe\">\n",
       "  <thead>\n",
       "    <tr style=\"text-align: right;\">\n",
       "      <th></th>\n",
       "      <th>id</th>\n",
       "      <th>Faixa_Hora_Contrat</th>\n",
       "      <th>Escolaridade</th>\n",
       "      <th>Qtd_Hora_Contr</th>\n",
       "      <th>Idade</th>\n",
       "      <th>Ind_Simples</th>\n",
       "      <th>Ind_Portador_Defic</th>\n",
       "      <th>Raça_Cor</th>\n",
       "      <th>Vl_Remun_Dezembro_Nom</th>\n",
       "      <th>Sexo_Trabalhador</th>\n",
       "      <th>Tamanho_Estabelecimento</th>\n",
       "      <th>Tipo_Admissão</th>\n",
       "      <th>Tipo_Defic</th>\n",
       "      <th>Ind_Trab_Intermitente</th>\n",
       "      <th>Ind_Trab_Parcial</th>\n",
       "      <th>CNAE_Subclasse_targetencoder_</th>\n",
       "      <th>Tipo_Vínculo_targetencoder_</th>\n",
       "      <th>IBGE_Subsetor_targetencoder_</th>\n",
       "      <th>CBO_targetencoder_</th>\n",
       "      <th>cidades_targetencoder_</th>\n",
       "      <th>Select</th>\n",
       "    </tr>\n",
       "  </thead>\n",
       "  <tbody>\n",
       "    <tr>\n",
       "      <th>0</th>\n",
       "      <td>0</td>\n",
       "      <td>6</td>\n",
       "      <td>1</td>\n",
       "      <td>44</td>\n",
       "      <td>50</td>\n",
       "      <td>1</td>\n",
       "      <td>0</td>\n",
       "      <td>4</td>\n",
       "      <td>1372.730</td>\n",
       "      <td>1</td>\n",
       "      <td>4</td>\n",
       "      <td>2</td>\n",
       "      <td>0</td>\n",
       "      <td>0</td>\n",
       "      <td>0</td>\n",
       "      <td>2012.803</td>\n",
       "      <td>3363.495</td>\n",
       "      <td>2012.400</td>\n",
       "      <td>2455.315</td>\n",
       "      <td>2662.986</td>\n",
       "      <td>0.000</td>\n",
       "    </tr>\n",
       "    <tr>\n",
       "      <th>1</th>\n",
       "      <td>1</td>\n",
       "      <td>1</td>\n",
       "      <td>1</td>\n",
       "      <td>1</td>\n",
       "      <td>61</td>\n",
       "      <td>0</td>\n",
       "      <td>0</td>\n",
       "      <td>2</td>\n",
       "      <td>1340.190</td>\n",
       "      <td>1</td>\n",
       "      <td>7</td>\n",
       "      <td>0</td>\n",
       "      <td>0</td>\n",
       "      <td>0</td>\n",
       "      <td>0</td>\n",
       "      <td>3221.220</td>\n",
       "      <td>3363.495</td>\n",
       "      <td>4149.241</td>\n",
       "      <td>4420.601</td>\n",
       "      <td>3183.867</td>\n",
       "      <td>0.000</td>\n",
       "    </tr>\n",
       "    <tr>\n",
       "      <th>2</th>\n",
       "      <td>2</td>\n",
       "      <td>5</td>\n",
       "      <td>1</td>\n",
       "      <td>36</td>\n",
       "      <td>68</td>\n",
       "      <td>0</td>\n",
       "      <td>0</td>\n",
       "      <td>8</td>\n",
       "      <td>2263.800</td>\n",
       "      <td>1</td>\n",
       "      <td>7</td>\n",
       "      <td>0</td>\n",
       "      <td>0</td>\n",
       "      <td>0</td>\n",
       "      <td>0</td>\n",
       "      <td>3221.220</td>\n",
       "      <td>3363.495</td>\n",
       "      <td>4149.241</td>\n",
       "      <td>4420.601</td>\n",
       "      <td>3183.867</td>\n",
       "      <td>1.000</td>\n",
       "    </tr>\n",
       "    <tr>\n",
       "      <th>3</th>\n",
       "      <td>3</td>\n",
       "      <td>6</td>\n",
       "      <td>1</td>\n",
       "      <td>44</td>\n",
       "      <td>28</td>\n",
       "      <td>1</td>\n",
       "      <td>0</td>\n",
       "      <td>2</td>\n",
       "      <td>2083.360</td>\n",
       "      <td>1</td>\n",
       "      <td>3</td>\n",
       "      <td>2</td>\n",
       "      <td>0</td>\n",
       "      <td>0</td>\n",
       "      <td>0</td>\n",
       "      <td>2231.034</td>\n",
       "      <td>3363.495</td>\n",
       "      <td>1877.463</td>\n",
       "      <td>2210.861</td>\n",
       "      <td>1971.877</td>\n",
       "      <td>1.000</td>\n",
       "    </tr>\n",
       "    <tr>\n",
       "      <th>4</th>\n",
       "      <td>4</td>\n",
       "      <td>6</td>\n",
       "      <td>1</td>\n",
       "      <td>44</td>\n",
       "      <td>64</td>\n",
       "      <td>0</td>\n",
       "      <td>0</td>\n",
       "      <td>4</td>\n",
       "      <td>1417.420</td>\n",
       "      <td>1</td>\n",
       "      <td>6</td>\n",
       "      <td>2</td>\n",
       "      <td>0</td>\n",
       "      <td>0</td>\n",
       "      <td>0</td>\n",
       "      <td>3276.079</td>\n",
       "      <td>3363.495</td>\n",
       "      <td>4491.901</td>\n",
       "      <td>1583.565</td>\n",
       "      <td>2785.046</td>\n",
       "      <td>0.000</td>\n",
       "    </tr>\n",
       "  </tbody>\n",
       "</table>\n",
       "</div>"
      ],
      "text/plain": [
       "   id  Faixa_Hora_Contrat  Escolaridade  Qtd_Hora_Contr  Idade  Ind_Simples  \\\n",
       "0   0                   6             1              44     50            1   \n",
       "1   1                   1             1               1     61            0   \n",
       "2   2                   5             1              36     68            0   \n",
       "3   3                   6             1              44     28            1   \n",
       "4   4                   6             1              44     64            0   \n",
       "\n",
       "   Ind_Portador_Defic  Raça_Cor  Vl_Remun_Dezembro_Nom  Sexo_Trabalhador  \\\n",
       "0                   0         4               1372.730                 1   \n",
       "1                   0         2               1340.190                 1   \n",
       "2                   0         8               2263.800                 1   \n",
       "3                   0         2               2083.360                 1   \n",
       "4                   0         4               1417.420                 1   \n",
       "\n",
       "   Tamanho_Estabelecimento  Tipo_Admissão  Tipo_Defic  Ind_Trab_Intermitente  \\\n",
       "0                        4              2           0                      0   \n",
       "1                        7              0           0                      0   \n",
       "2                        7              0           0                      0   \n",
       "3                        3              2           0                      0   \n",
       "4                        6              2           0                      0   \n",
       "\n",
       "   Ind_Trab_Parcial  CNAE_Subclasse_targetencoder_  \\\n",
       "0                 0                       2012.803   \n",
       "1                 0                       3221.220   \n",
       "2                 0                       3221.220   \n",
       "3                 0                       2231.034   \n",
       "4                 0                       3276.079   \n",
       "\n",
       "   Tipo_Vínculo_targetencoder_  IBGE_Subsetor_targetencoder_  \\\n",
       "0                     3363.495                      2012.400   \n",
       "1                     3363.495                      4149.241   \n",
       "2                     3363.495                      4149.241   \n",
       "3                     3363.495                      1877.463   \n",
       "4                     3363.495                      4491.901   \n",
       "\n",
       "   CBO_targetencoder_  cidades_targetencoder_  Select  \n",
       "0            2455.315                2662.986   0.000  \n",
       "1            4420.601                3183.867   0.000  \n",
       "2            4420.601                3183.867   1.000  \n",
       "3            2210.861                1971.877   1.000  \n",
       "4            1583.565                2785.046   0.000  "
      ]
     },
     "execution_count": 13,
     "metadata": {},
     "output_type": "execute_result"
    }
   ],
   "source": [
    "df_ind_trans = df_ind_trans.merge(df_seleted, on=['id'], how='left')\n",
    "df_ind_trans['Select'] = df_ind_trans['Select'].fillna(0)\n",
    "df_ind_trans.head()"
   ]
  },
  {
   "cell_type": "code",
   "execution_count": 14,
   "metadata": {},
   "outputs": [
    {
     "data": {
      "text/plain": [
       "Select\n",
       "0.000    573429\n",
       "1.000    573428\n",
       "Name: count, dtype: int64"
      ]
     },
     "execution_count": 14,
     "metadata": {},
     "output_type": "execute_result"
    }
   ],
   "source": [
    "df_ind_trans['Select'].value_counts()"
   ]
  },
  {
   "cell_type": "code",
   "execution_count": 15,
   "metadata": {},
   "outputs": [
    {
     "data": {
      "text/html": [
       "<div>\n",
       "<style scoped>\n",
       "    .dataframe tbody tr th:only-of-type {\n",
       "        vertical-align: middle;\n",
       "    }\n",
       "\n",
       "    .dataframe tbody tr th {\n",
       "        vertical-align: top;\n",
       "    }\n",
       "\n",
       "    .dataframe thead th {\n",
       "        text-align: right;\n",
       "    }\n",
       "</style>\n",
       "<table border=\"1\" class=\"dataframe\">\n",
       "  <thead>\n",
       "    <tr style=\"text-align: right;\">\n",
       "      <th></th>\n",
       "      <th>id</th>\n",
       "      <th>Faixa_Hora_Contrat</th>\n",
       "      <th>Escolaridade</th>\n",
       "      <th>Qtd_Hora_Contr</th>\n",
       "      <th>Idade</th>\n",
       "      <th>Ind_Simples</th>\n",
       "      <th>Ind_Portador_Defic</th>\n",
       "      <th>Raça_Cor</th>\n",
       "      <th>Vl_Remun_Dezembro_Nom</th>\n",
       "      <th>Sexo_Trabalhador</th>\n",
       "      <th>Tamanho_Estabelecimento</th>\n",
       "      <th>Tipo_Admissão</th>\n",
       "      <th>Tipo_Defic</th>\n",
       "      <th>Ind_Trab_Intermitente</th>\n",
       "      <th>Ind_Trab_Parcial</th>\n",
       "      <th>CNAE_Subclasse_targetencoder_</th>\n",
       "      <th>Tipo_Vínculo_targetencoder_</th>\n",
       "      <th>IBGE_Subsetor_targetencoder_</th>\n",
       "      <th>CBO_targetencoder_</th>\n",
       "      <th>cidades_targetencoder_</th>\n",
       "      <th>Select</th>\n",
       "    </tr>\n",
       "  </thead>\n",
       "  <tbody>\n",
       "    <tr>\n",
       "      <th>0</th>\n",
       "      <td>0</td>\n",
       "      <td>6</td>\n",
       "      <td>1</td>\n",
       "      <td>44</td>\n",
       "      <td>50</td>\n",
       "      <td>1</td>\n",
       "      <td>0</td>\n",
       "      <td>4</td>\n",
       "      <td>1372.730</td>\n",
       "      <td>1</td>\n",
       "      <td>4</td>\n",
       "      <td>2</td>\n",
       "      <td>0</td>\n",
       "      <td>0</td>\n",
       "      <td>0</td>\n",
       "      <td>2012.803</td>\n",
       "      <td>3363.495</td>\n",
       "      <td>2012.400</td>\n",
       "      <td>2455.315</td>\n",
       "      <td>2662.986</td>\n",
       "      <td>0.000</td>\n",
       "    </tr>\n",
       "    <tr>\n",
       "      <th>1</th>\n",
       "      <td>1</td>\n",
       "      <td>1</td>\n",
       "      <td>1</td>\n",
       "      <td>1</td>\n",
       "      <td>61</td>\n",
       "      <td>0</td>\n",
       "      <td>0</td>\n",
       "      <td>2</td>\n",
       "      <td>1340.190</td>\n",
       "      <td>1</td>\n",
       "      <td>7</td>\n",
       "      <td>0</td>\n",
       "      <td>0</td>\n",
       "      <td>0</td>\n",
       "      <td>0</td>\n",
       "      <td>3221.220</td>\n",
       "      <td>3363.495</td>\n",
       "      <td>4149.241</td>\n",
       "      <td>4420.601</td>\n",
       "      <td>3183.867</td>\n",
       "      <td>0.000</td>\n",
       "    </tr>\n",
       "    <tr>\n",
       "      <th>2</th>\n",
       "      <td>2</td>\n",
       "      <td>5</td>\n",
       "      <td>1</td>\n",
       "      <td>36</td>\n",
       "      <td>68</td>\n",
       "      <td>0</td>\n",
       "      <td>0</td>\n",
       "      <td>8</td>\n",
       "      <td>2263.800</td>\n",
       "      <td>1</td>\n",
       "      <td>7</td>\n",
       "      <td>0</td>\n",
       "      <td>0</td>\n",
       "      <td>0</td>\n",
       "      <td>0</td>\n",
       "      <td>3221.220</td>\n",
       "      <td>3363.495</td>\n",
       "      <td>4149.241</td>\n",
       "      <td>4420.601</td>\n",
       "      <td>3183.867</td>\n",
       "      <td>1.000</td>\n",
       "    </tr>\n",
       "    <tr>\n",
       "      <th>3</th>\n",
       "      <td>3</td>\n",
       "      <td>6</td>\n",
       "      <td>1</td>\n",
       "      <td>44</td>\n",
       "      <td>28</td>\n",
       "      <td>1</td>\n",
       "      <td>0</td>\n",
       "      <td>2</td>\n",
       "      <td>2083.360</td>\n",
       "      <td>1</td>\n",
       "      <td>3</td>\n",
       "      <td>2</td>\n",
       "      <td>0</td>\n",
       "      <td>0</td>\n",
       "      <td>0</td>\n",
       "      <td>2231.034</td>\n",
       "      <td>3363.495</td>\n",
       "      <td>1877.463</td>\n",
       "      <td>2210.861</td>\n",
       "      <td>1971.877</td>\n",
       "      <td>1.000</td>\n",
       "    </tr>\n",
       "    <tr>\n",
       "      <th>4</th>\n",
       "      <td>4</td>\n",
       "      <td>6</td>\n",
       "      <td>1</td>\n",
       "      <td>44</td>\n",
       "      <td>64</td>\n",
       "      <td>0</td>\n",
       "      <td>0</td>\n",
       "      <td>4</td>\n",
       "      <td>1417.420</td>\n",
       "      <td>1</td>\n",
       "      <td>6</td>\n",
       "      <td>2</td>\n",
       "      <td>0</td>\n",
       "      <td>0</td>\n",
       "      <td>0</td>\n",
       "      <td>3276.079</td>\n",
       "      <td>3363.495</td>\n",
       "      <td>4491.901</td>\n",
       "      <td>1583.565</td>\n",
       "      <td>2785.046</td>\n",
       "      <td>0.000</td>\n",
       "    </tr>\n",
       "  </tbody>\n",
       "</table>\n",
       "</div>"
      ],
      "text/plain": [
       "   id  Faixa_Hora_Contrat  Escolaridade  Qtd_Hora_Contr  Idade  Ind_Simples  \\\n",
       "0   0                   6             1              44     50            1   \n",
       "1   1                   1             1               1     61            0   \n",
       "2   2                   5             1              36     68            0   \n",
       "3   3                   6             1              44     28            1   \n",
       "4   4                   6             1              44     64            0   \n",
       "\n",
       "   Ind_Portador_Defic  Raça_Cor  Vl_Remun_Dezembro_Nom  Sexo_Trabalhador  \\\n",
       "0                   0         4               1372.730                 1   \n",
       "1                   0         2               1340.190                 1   \n",
       "2                   0         8               2263.800                 1   \n",
       "3                   0         2               2083.360                 1   \n",
       "4                   0         4               1417.420                 1   \n",
       "\n",
       "   Tamanho_Estabelecimento  Tipo_Admissão  Tipo_Defic  Ind_Trab_Intermitente  \\\n",
       "0                        4              2           0                      0   \n",
       "1                        7              0           0                      0   \n",
       "2                        7              0           0                      0   \n",
       "3                        3              2           0                      0   \n",
       "4                        6              2           0                      0   \n",
       "\n",
       "   Ind_Trab_Parcial  CNAE_Subclasse_targetencoder_  \\\n",
       "0                 0                       2012.803   \n",
       "1                 0                       3221.220   \n",
       "2                 0                       3221.220   \n",
       "3                 0                       2231.034   \n",
       "4                 0                       3276.079   \n",
       "\n",
       "   Tipo_Vínculo_targetencoder_  IBGE_Subsetor_targetencoder_  \\\n",
       "0                     3363.495                      2012.400   \n",
       "1                     3363.495                      4149.241   \n",
       "2                     3363.495                      4149.241   \n",
       "3                     3363.495                      1877.463   \n",
       "4                     3363.495                      4491.901   \n",
       "\n",
       "   CBO_targetencoder_  cidades_targetencoder_  Select  \n",
       "0            2455.315                2662.986   0.000  \n",
       "1            4420.601                3183.867   0.000  \n",
       "2            4420.601                3183.867   1.000  \n",
       "3            2210.861                1971.877   1.000  \n",
       "4            1583.565                2785.046   0.000  "
      ]
     },
     "execution_count": 15,
     "metadata": {},
     "output_type": "execute_result"
    }
   ],
   "source": [
    "df_ind_trans.head()"
   ]
  },
  {
   "cell_type": "markdown",
   "metadata": {},
   "source": [
    "# Making Dataset de Train and Test"
   ]
  },
  {
   "cell_type": "code",
   "execution_count": 16,
   "metadata": {},
   "outputs": [
    {
     "data": {
      "text/plain": [
       "((573428, 21), (573429, 21))"
      ]
     },
     "execution_count": 16,
     "metadata": {},
     "output_type": "execute_result"
    }
   ],
   "source": [
    "df_train = df_ind_trans[(df_ind_trans['Select'] == 1)]\n",
    "df_test = df_ind_trans[(df_ind_trans['Select'] == 0)]\n",
    "df_train.shape, df_test.shape"
   ]
  },
  {
   "cell_type": "code",
   "execution_count": 17,
   "metadata": {},
   "outputs": [
    {
     "data": {
      "text/plain": [
       "((573428, 19), (573429, 19))"
      ]
     },
     "execution_count": 17,
     "metadata": {},
     "output_type": "execute_result"
    }
   ],
   "source": [
    "df_train = df_train.drop(columns=['Select'])\n",
    "df_test = df_test.drop(columns=['Select'])\n",
    "df_train = df_train.set_index(['id'])\n",
    "df_test = df_test.set_index(['id'])\n",
    "df_train.shape, df_test.shape"
   ]
  },
  {
   "cell_type": "markdown",
   "metadata": {},
   "source": [
    "# View of Correlation"
   ]
  },
  {
   "cell_type": "code",
   "execution_count": 18,
   "metadata": {},
   "outputs": [
    {
     "data": {
      "text/plain": [
       "<Axes: >"
      ]
     },
     "execution_count": 18,
     "metadata": {},
     "output_type": "execute_result"
    },
    {
     "data": {
      "image/png": "[encoded data removed]",
      "text/plain": [
       "<Figure size 1000x700 with 2 Axes>"
      ]
     },
     "metadata": {},
     "output_type": "display_data"
    }
   ],
   "source": [
    "#plt.rcParams[\"figure.figsize\"] = [20, 20]\n",
    "plt.rcParams[\"figure.figsize\"] = [10, 7]\n",
    "cormat = df_train.corr()\n",
    "#sns.heatmap(cormat, annot=True)\n",
    "sns.heatmap(cormat)"
   ]
  },
  {
   "cell_type": "markdown",
   "metadata": {},
   "source": [
    "# Separating the variables - first part"
   ]
  },
  {
   "cell_type": "code",
   "execution_count": 19,
   "metadata": {},
   "outputs": [
    {
     "data": {
      "text/plain": [
       "((573428, 18), (573428,))"
      ]
     },
     "execution_count": 19,
     "metadata": {},
     "output_type": "execute_result"
    }
   ],
   "source": [
    "X = df_train.drop(columns='Vl_Remun_Dezembro_Nom')\n",
    "y = df_train['Vl_Remun_Dezembro_Nom']\n",
    "X.shape, y.shape"
   ]
  },
  {
   "cell_type": "code",
   "execution_count": 20,
   "metadata": {},
   "outputs": [
    {
     "data": {
      "text/plain": [
       "((458742, 18), (114686, 18), (458742,), (114686,))"
      ]
     },
     "execution_count": 20,
     "metadata": {},
     "output_type": "execute_result"
    }
   ],
   "source": [
    "random_ = 2023\n",
    "X_train, X_test, y_train, y_test = train_test_split(X , y, test_size=0.2, random_state=random_)\n",
    "X_train.shape, X_test.shape, y_train.shape, y_test.shape"
   ]
  },
  {
   "cell_type": "code",
   "execution_count": 21,
   "metadata": {},
   "outputs": [],
   "source": [
    "def cross_val(model):\n",
    "    pred = cross_val_score(model, X, y, cv=10)\n",
    "    return pred.mean()\n",
    "\n",
    "def print_evaluate(true, predicted):  \n",
    "    mae = metrics.mean_absolute_error(true, predicted)\n",
    "    mse = metrics.mean_squared_error(true, predicted)\n",
    "    rmse = np.sqrt(metrics.mean_squared_error(true, predicted))\n",
    "    r2_square = metrics.r2_score(true, predicted)\n",
    "    print('MAE:', mae)\n",
    "    print('MSE:', mse)\n",
    "    print('RMSE:', rmse)\n",
    "    print('R2 Square', r2_square)\n",
    "    print('__________________________________')\n",
    "    \n",
    "def evaluate(true, predicted):\n",
    "    mae = metrics.mean_absolute_error(true, predicted)\n",
    "    mse = metrics.mean_squared_error(true, predicted)\n",
    "    rmse = np.sqrt(metrics.mean_squared_error(true, predicted))\n",
    "    r2_square = metrics.r2_score(true, predicted)\n",
    "    return mae, mse, rmse, r2_square"
   ]
  },
  {
   "cell_type": "code",
   "execution_count": 22,
   "metadata": {},
   "outputs": [],
   "source": [
    "pipeline = Pipeline([\n",
    "    ('std_scalar', StandardScaler())\n",
    "])\n",
    "\n",
    "X_train = pipeline.fit_transform(X_train)\n",
    "X_test = pipeline.transform(X_test)"
   ]
  },
  {
   "cell_type": "markdown",
   "metadata": {},
   "source": [
    "# Linear Regression"
   ]
  },
  {
   "cell_type": "code",
   "execution_count": 23,
   "metadata": {},
   "outputs": [
    {
     "data": {
      "text/plain": [
       "LinearRegression()"
      ]
     },
     "execution_count": 23,
     "metadata": {},
     "output_type": "execute_result"
    }
   ],
   "source": [
    "lin_reg = LinearRegression()\n",
    "lin_reg.fit(X_train,y_train)"
   ]
  },
  {
   "cell_type": "code",
   "execution_count": 24,
   "metadata": {},
   "outputs": [
    {
     "name": "stdout",
     "output_type": "stream",
     "text": [
      "3298.1814057574834\n"
     ]
    }
   ],
   "source": [
    "# print the intercept\n",
    "print(lin_reg.intercept_)"
   ]
  },
  {
   "cell_type": "code",
   "execution_count": 25,
   "metadata": {},
   "outputs": [
    {
     "data": {
      "text/html": [
       "<div>\n",
       "<style scoped>\n",
       "    .dataframe tbody tr th:only-of-type {\n",
       "        vertical-align: middle;\n",
       "    }\n",
       "\n",
       "    .dataframe tbody tr th {\n",
       "        vertical-align: top;\n",
       "    }\n",
       "\n",
       "    .dataframe thead th {\n",
       "        text-align: right;\n",
       "    }\n",
       "</style>\n",
       "<table border=\"1\" class=\"dataframe\">\n",
       "  <thead>\n",
       "    <tr style=\"text-align: right;\">\n",
       "      <th></th>\n",
       "      <th>Coefficient</th>\n",
       "    </tr>\n",
       "  </thead>\n",
       "  <tbody>\n",
       "    <tr>\n",
       "      <th>Faixa_Hora_Contrat</th>\n",
       "      <td>302.430</td>\n",
       "    </tr>\n",
       "    <tr>\n",
       "      <th>Escolaridade</th>\n",
       "      <td>377.575</td>\n",
       "    </tr>\n",
       "    <tr>\n",
       "      <th>Qtd_Hora_Contr</th>\n",
       "      <td>-85.516</td>\n",
       "    </tr>\n",
       "    <tr>\n",
       "      <th>Idade</th>\n",
       "      <td>470.524</td>\n",
       "    </tr>\n",
       "    <tr>\n",
       "      <th>Ind_Simples</th>\n",
       "      <td>20.880</td>\n",
       "    </tr>\n",
       "    <tr>\n",
       "      <th>Ind_Portador_Defic</th>\n",
       "      <td>-57.871</td>\n",
       "    </tr>\n",
       "    <tr>\n",
       "      <th>Raça_Cor</th>\n",
       "      <td>-163.324</td>\n",
       "    </tr>\n",
       "    <tr>\n",
       "      <th>Sexo_Trabalhador</th>\n",
       "      <td>-160.733</td>\n",
       "    </tr>\n",
       "    <tr>\n",
       "      <th>Tamanho_Estabelecimento</th>\n",
       "      <td>255.857</td>\n",
       "    </tr>\n",
       "    <tr>\n",
       "      <th>Tipo_Admissão</th>\n",
       "      <td>-109.045</td>\n",
       "    </tr>\n",
       "    <tr>\n",
       "      <th>Tipo_Defic</th>\n",
       "      <td>-2.926</td>\n",
       "    </tr>\n",
       "    <tr>\n",
       "      <th>Ind_Trab_Intermitente</th>\n",
       "      <td>-89.384</td>\n",
       "    </tr>\n",
       "    <tr>\n",
       "      <th>Ind_Trab_Parcial</th>\n",
       "      <td>-78.129</td>\n",
       "    </tr>\n",
       "    <tr>\n",
       "      <th>CNAE_Subclasse_targetencoder_</th>\n",
       "      <td>1692.888</td>\n",
       "    </tr>\n",
       "    <tr>\n",
       "      <th>Tipo_Vínculo_targetencoder_</th>\n",
       "      <td>305.138</td>\n",
       "    </tr>\n",
       "    <tr>\n",
       "      <th>IBGE_Subsetor_targetencoder_</th>\n",
       "      <td>-302.334</td>\n",
       "    </tr>\n",
       "    <tr>\n",
       "      <th>CBO_targetencoder_</th>\n",
       "      <td>1665.244</td>\n",
       "    </tr>\n",
       "    <tr>\n",
       "      <th>cidades_targetencoder_</th>\n",
       "      <td>840.499</td>\n",
       "    </tr>\n",
       "  </tbody>\n",
       "</table>\n",
       "</div>"
      ],
      "text/plain": [
       "                               Coefficient\n",
       "Faixa_Hora_Contrat                 302.430\n",
       "Escolaridade                       377.575\n",
       "Qtd_Hora_Contr                     -85.516\n",
       "Idade                              470.524\n",
       "Ind_Simples                         20.880\n",
       "Ind_Portador_Defic                 -57.871\n",
       "Raça_Cor                          -163.324\n",
       "Sexo_Trabalhador                  -160.733\n",
       "Tamanho_Estabelecimento            255.857\n",
       "Tipo_Admissão                     -109.045\n",
       "Tipo_Defic                          -2.926\n",
       "Ind_Trab_Intermitente              -89.384\n",
       "Ind_Trab_Parcial                   -78.129\n",
       "CNAE_Subclasse_targetencoder_     1692.888\n",
       "Tipo_Vínculo_targetencoder_        305.138\n",
       "IBGE_Subsetor_targetencoder_      -302.334\n",
       "CBO_targetencoder_                1665.244\n",
       "cidades_targetencoder_             840.499"
      ]
     },
     "execution_count": 25,
     "metadata": {},
     "output_type": "execute_result"
    }
   ],
   "source": [
    "coeff_df = pd.DataFrame(lin_reg.coef_, X.columns, columns=['Coefficient'])\n",
    "coeff_df"
   ]
  },
  {
   "cell_type": "code",
   "execution_count": 26,
   "metadata": {},
   "outputs": [],
   "source": [
    "pred = lin_reg.predict(X_test)"
   ]
  },
  {
   "cell_type": "code",
   "execution_count": 27,
   "metadata": {},
   "outputs": [
    {
     "name": "stdout",
     "output_type": "stream",
     "text": [
      "Test set evaluation:\n",
      "_____________________________________\n",
      "MAE: 1589.6606208195901\n",
      "MSE: 14178064.571800232\n",
      "RMSE: 3765.377082285416\n",
      "R2 Square 0.4885452398050131\n",
      "__________________________________\n",
      "Train set evaluation:\n",
      "_____________________________________\n",
      "MAE: 1582.2875383961834\n",
      "MSE: 13367049.600341674\n",
      "RMSE: 3656.097591742003\n",
      "R2 Square 0.4909085449728794\n",
      "__________________________________\n"
     ]
    }
   ],
   "source": [
    "test_pred = lin_reg.predict(X_test)\n",
    "train_pred = lin_reg.predict(X_train)\n",
    "\n",
    "print('Test set evaluation:\\n_____________________________________')\n",
    "print_evaluate(y_test, test_pred)\n",
    "print('Train set evaluation:\\n_____________________________________')\n",
    "print_evaluate(y_train, train_pred)\n",
    "\n",
    "results_df = pd.DataFrame(data=[[\"Linear Regression\", *evaluate(y_test, test_pred) , cross_val(LinearRegression())]], \n",
    "                          columns=['Model', 'MAE', 'MSE', 'RMSE', 'R2 Square', \"Cross Validation\"])"
   ]
  },
  {
   "cell_type": "markdown",
   "metadata": {},
   "source": [
    "# Random Sample Consensus - RANSAC"
   ]
  },
  {
   "cell_type": "code",
   "execution_count": 28,
   "metadata": {},
   "outputs": [
    {
     "name": "stdout",
     "output_type": "stream",
     "text": [
      "Test set evaluation:\n",
      "_____________________________________\n",
      "MAE: 37901.44487500648\n",
      "MSE: 122570242990.64774\n",
      "RMSE: 350100.3327485533\n",
      "R2 Square -4420.557957953579\n",
      "__________________________________\n",
      "====================================\n",
      "Train set evaluation:\n",
      "_____________________________________\n",
      "MAE: 38214.47179323796\n",
      "MSE: 123752730323.86844\n",
      "RMSE: 351785.06267871644\n",
      "R2 Square -4712.190975407669\n",
      "__________________________________\n"
     ]
    }
   ],
   "source": [
    "model = RANSACRegressor(estimator=LinearRegression(), max_trials=100)\n",
    "model.fit(X_train, y_train)\n",
    "\n",
    "test_pred = model.predict(X_test)\n",
    "train_pred = model.predict(X_train)\n",
    "\n",
    "print('Test set evaluation:\\n_____________________________________')\n",
    "print_evaluate(y_test, test_pred)\n",
    "print('====================================')\n",
    "print('Train set evaluation:\\n_____________________________________')\n",
    "print_evaluate(y_train, train_pred)\n",
    "\n",
    "results_df_2 = pd.DataFrame(data=[[\"Robust Regression\", *evaluate(y_test, test_pred) , cross_val(RANSACRegressor())]], \n",
    "                            columns=['Model', 'MAE', 'MSE', 'RMSE', 'R2 Square', \"Cross Validation\"])\n",
    "\n",
    "results_df = pd.concat([results_df, results_df_2], ignore_index=True)"
   ]
  },
  {
   "cell_type": "markdown",
   "metadata": {},
   "source": [
    "# Ridge Regression"
   ]
  },
  {
   "cell_type": "code",
   "execution_count": 29,
   "metadata": {},
   "outputs": [
    {
     "name": "stdout",
     "output_type": "stream",
     "text": [
      "Test set evaluation:\n",
      "_____________________________________\n",
      "MAE: 1589.5774645905706\n",
      "MSE: 14178133.294170778\n",
      "RMSE: 3765.3862078372226\n",
      "R2 Square 0.48854276073719893\n",
      "__________________________________\n",
      "====================================\n",
      "Train set evaluation:\n",
      "_____________________________________\n",
      "MAE: 1582.2028717293383\n",
      "MSE: 13367049.88272401\n",
      "RMSE: 3656.0976303600005\n",
      "R2 Square 0.49090853421819247\n",
      "__________________________________\n"
     ]
    }
   ],
   "source": [
    "model = Ridge(alpha=100, solver='cholesky', tol=0.0001, random_state=42)\n",
    "model.fit(X_train, y_train)\n",
    "pred = model.predict(X_test)\n",
    "\n",
    "test_pred = model.predict(X_test)\n",
    "train_pred = model.predict(X_train)\n",
    "\n",
    "print('Test set evaluation:\\n_____________________________________')\n",
    "print_evaluate(y_test, test_pred)\n",
    "print('====================================')\n",
    "print('Train set evaluation:\\n_____________________________________')\n",
    "print_evaluate(y_train, train_pred)\n",
    "\n",
    "results_df_2 = pd.DataFrame(data=[[\"Ridge Regression\", *evaluate(y_test, test_pred) , cross_val(Ridge())]], \n",
    "                            columns=['Model', 'MAE', 'MSE', 'RMSE', 'R2 Square', \"Cross Validation\"])\n",
    "results_df = pd.concat([results_df, results_df_2], ignore_index=True)"
   ]
  },
  {
   "cell_type": "markdown",
   "metadata": {},
   "source": [
    "# LASSO Regression"
   ]
  },
  {
   "cell_type": "code",
   "execution_count": 30,
   "metadata": {},
   "outputs": [
    {
     "name": "stdout",
     "output_type": "stream",
     "text": [
      "Test set evaluation:\n",
      "_____________________________________\n",
      "MAE: 1608.861288377628\n",
      "MSE: 14330897.944623962\n",
      "RMSE: 3785.617247507196\n",
      "R2 Square 0.48303197982150137\n",
      "__________________________________\n",
      "====================================\n",
      "Train set evaluation:\n",
      "_____________________________________\n",
      "MAE: 1601.0388539649687\n",
      "MSE: 13509961.984534726\n",
      "RMSE: 3675.590018559568\n",
      "R2 Square 0.4854656480146474\n",
      "__________________________________\n"
     ]
    }
   ],
   "source": [
    "model = Lasso(alpha=0.1, \n",
    "              precompute=True, \n",
    "#               warm_start=True, \n",
    "              positive=True, \n",
    "              selection='random',\n",
    "              random_state=42)\n",
    "model.fit(X_train, y_train)\n",
    "\n",
    "test_pred = model.predict(X_test)\n",
    "train_pred = model.predict(X_train)\n",
    "\n",
    "print('Test set evaluation:\\n_____________________________________')\n",
    "print_evaluate(y_test, test_pred)\n",
    "print('====================================')\n",
    "print('Train set evaluation:\\n_____________________________________')\n",
    "print_evaluate(y_train, train_pred)\n",
    "\n",
    "results_df_2 = pd.DataFrame(data=[[\"Lasso Regression\", *evaluate(y_test, test_pred) , cross_val(Lasso())]], \n",
    "                            columns=['Model', 'MAE', 'MSE', 'RMSE', 'R2 Square', \"Cross Validation\"])\n",
    "results_df = pd.concat([results_df, results_df_2], ignore_index=True)"
   ]
  },
  {
   "cell_type": "markdown",
   "metadata": {},
   "source": [
    "# Elastic Net"
   ]
  },
  {
   "cell_type": "code",
   "execution_count": 31,
   "metadata": {},
   "outputs": [
    {
     "name": "stdout",
     "output_type": "stream",
     "text": [
      "Test set evaluation:\n",
      "_____________________________________\n",
      "MAE: 1585.8501323821504\n",
      "MSE: 14181804.679014228\n",
      "RMSE: 3765.8736939804858\n",
      "R2 Square 0.4884103204280734\n",
      "__________________________________\n",
      "====================================\n",
      "Train set evaluation:\n",
      "_____________________________________\n",
      "MAE: 1578.4100208592815\n",
      "MSE: 13367638.120641662\n",
      "RMSE: 3656.17807561963\n",
      "R2 Square 0.49088613085272625\n",
      "__________________________________\n"
     ]
    }
   ],
   "source": [
    "model = ElasticNet(alpha=0.1, l1_ratio=0.9, selection='random', random_state=42)\n",
    "model.fit(X_train, y_train)\n",
    "\n",
    "test_pred = model.predict(X_test)\n",
    "train_pred = model.predict(X_train)\n",
    "\n",
    "print('Test set evaluation:\\n_____________________________________')\n",
    "print_evaluate(y_test, test_pred)\n",
    "print('====================================')\n",
    "print('Train set evaluation:\\n_____________________________________')\n",
    "print_evaluate(y_train, train_pred)\n",
    "\n",
    "results_df_2 = pd.DataFrame(data=[[\"Elastic Net Regression\", *evaluate(y_test, test_pred) , cross_val(ElasticNet())]], \n",
    "                            columns=['Model', 'MAE', 'MSE', 'RMSE', 'R2 Square', \"Cross Validation\"])\n",
    "results_df = pd.concat([results_df, results_df_2], ignore_index=True)"
   ]
  },
  {
   "cell_type": "markdown",
   "metadata": {},
   "source": [
    "# Polynomial Regression"
   ]
  },
  {
   "cell_type": "code",
   "execution_count": 32,
   "metadata": {},
   "outputs": [
    {
     "name": "stdout",
     "output_type": "stream",
     "text": [
      "Test set evaluation:\n",
      "_____________________________________\n",
      "MAE: 1228.5998862750796\n",
      "MSE: 9498227.939701954\n",
      "RMSE: 3081.919521937903\n",
      "R2 Square 0.6573641015262521\n",
      "__________________________________\n",
      "====================================\n",
      "Train set evaluation:\n",
      "_____________________________________\n",
      "MAE: 1224.3493777084943\n",
      "MSE: 8881626.538904775\n",
      "RMSE: 2980.205788012763\n",
      "R2 Square 0.6617383556665379\n",
      "__________________________________\n"
     ]
    }
   ],
   "source": [
    "poly_reg = PolynomialFeatures(degree=2)\n",
    "\n",
    "X_train_2_d = poly_reg.fit_transform(X_train)\n",
    "X_test_2_d = poly_reg.transform(X_test)\n",
    "\n",
    "lin_reg = LinearRegression()\n",
    "lin_reg.fit(X_train_2_d,y_train)\n",
    "\n",
    "test_pred = lin_reg.predict(X_test_2_d)\n",
    "train_pred = lin_reg.predict(X_train_2_d)\n",
    "\n",
    "print('Test set evaluation:\\n_____________________________________')\n",
    "print_evaluate(y_test, test_pred)\n",
    "print('====================================')\n",
    "print('Train set evaluation:\\n_____________________________________')\n",
    "print_evaluate(y_train, train_pred)\n",
    "\n",
    "results_df_2 = pd.DataFrame(data=[[\"Polynomail Regression\", *evaluate(y_test, test_pred), 0]], \n",
    "                            columns=['Model', 'MAE', 'MSE', 'RMSE', 'R2 Square', 'Cross Validation'])\n",
    "results_df = pd.concat([results_df, results_df_2], ignore_index=True)"
   ]
  },
  {
   "cell_type": "markdown",
   "metadata": {},
   "source": [
    "# Stochastic Gradient Descent"
   ]
  },
  {
   "cell_type": "code",
   "execution_count": 33,
   "metadata": {},
   "outputs": [
    {
     "name": "stdout",
     "output_type": "stream",
     "text": [
      "Test set evaluation:\n",
      "_____________________________________\n",
      "MAE: 1589.9605237655442\n",
      "MSE: 14177884.045894073\n",
      "RMSE: 3765.353110386073\n",
      "R2 Square 0.48855175203618373\n",
      "__________________________________\n",
      "====================================\n",
      "Train set evaluation:\n",
      "_____________________________________\n",
      "MAE: 1582.5884202297468\n",
      "MSE: 13367052.535228118\n",
      "RMSE: 3656.097993110704\n",
      "R2 Square 0.49090843319611077\n",
      "__________________________________\n"
     ]
    }
   ],
   "source": [
    "sgd_reg = SGDRegressor(n_iter_no_change=250, penalty=None, eta0=0.0001, max_iter=100000)\n",
    "sgd_reg.fit(X_train, y_train)\n",
    "\n",
    "test_pred = sgd_reg.predict(X_test)\n",
    "train_pred = sgd_reg.predict(X_train)\n",
    "\n",
    "print('Test set evaluation:\\n_____________________________________')\n",
    "print_evaluate(y_test, test_pred)\n",
    "print('====================================')\n",
    "print('Train set evaluation:\\n_____________________________________')\n",
    "print_evaluate(y_train, train_pred)\n",
    "\n",
    "results_df_2 = pd.DataFrame(data=[[\"Stochastic Gradient Descent\", *evaluate(y_test, test_pred), 0]], \n",
    "                            columns=['Model', 'MAE', 'MSE', 'RMSE', 'R2 Square', 'Cross Validation'])\n",
    "results_df = pd.concat([results_df, results_df_2], ignore_index=True)"
   ]
  },
  {
   "cell_type": "markdown",
   "metadata": {},
   "source": [
    "# Artficial Neural Network"
   ]
  },
  {
   "cell_type": "code",
   "execution_count": null,
   "metadata": {},
   "outputs": [],
   "source": [
    "# from tensorflow.keras.models import Sequential\n",
    "# from tensorflow.keras.layers import Input, Dense, Activation, Dropout\n",
    "# from tensorflow.keras.optimizers import Adam"
   ]
  },
  {
   "cell_type": "code",
   "execution_count": null,
   "metadata": {},
   "outputs": [],
   "source": [
    "# X_train = np.array(X_train)\n",
    "# X_test = np.array(X_test)\n",
    "# y_train = np.array(y_train)\n",
    "# y_test = np.array(y_test)\n",
    "\n",
    "# model = Sequential()\n",
    "\n",
    "# model.add(Dense(X_train.shape[1], activation='relu'))\n",
    "# model.add(Dense(32, activation='relu'))\n",
    "# # model.add(Dropout(0.2))\n",
    "\n",
    "# model.add(Dense(64, activation='relu'))\n",
    "# # model.add(Dropout(0.2))\n",
    "\n",
    "# model.add(Dense(128, activation='relu'))\n",
    "# # model.add(Dropout(0.2))\n",
    "\n",
    "# model.add(Dense(512, activation='relu'))\n",
    "# model.add(Dropout(0.1))\n",
    "# model.add(Dense(1))\n",
    "\n",
    "# model.compile(optimizer=Adam(0.00001), loss='mse')\n",
    "\n",
    "# r = model.fit(X_train, y_train,\n",
    "#               validation_data=(X_test,y_test),\n",
    "#               batch_size=1,\n",
    "#               epochs=100)"
   ]
  },
  {
   "cell_type": "code",
   "execution_count": null,
   "metadata": {},
   "outputs": [],
   "source": [
    "# test_pred = model.predict(X_test)\n",
    "# train_pred = model.predict(X_train)\n",
    "\n",
    "# print('Test set evaluation:\\n_____________________________________')\n",
    "# print_evaluate(y_test, test_pred)\n",
    "\n",
    "# print('Train set evaluation:\\n_____________________________________')\n",
    "# print_evaluate(y_train, train_pred)\n",
    "\n",
    "# results_df_2 = pd.DataFrame(data=[[\"Artficial Neural Network\", *evaluate(y_test, test_pred), 0]], \n",
    "#                             columns=['Model', 'MAE', 'MSE', 'RMSE', 'R2 Square', 'Cross Validation'])\n",
    "# results_df = pd.concat([results_df, results_df_2], ignore_index=True)"
   ]
  },
  {
   "cell_type": "markdown",
   "metadata": {},
   "source": [
    "# Random Forest Regressor"
   ]
  },
  {
   "cell_type": "code",
   "execution_count": 34,
   "metadata": {},
   "outputs": [
    {
     "name": "stdout",
     "output_type": "stream",
     "text": [
      "Test set evaluation:\n",
      "_____________________________________\n",
      "MAE: 945.9287824624207\n",
      "MSE: 7429326.462926809\n",
      "RMSE: 2725.6790828941707\n",
      "R2 Square 0.7319969615553787\n",
      "__________________________________\n",
      "Train set evaluation:\n",
      "_____________________________________\n",
      "MAE: 379.9420144558348\n",
      "MSE: 1267217.9769660006\n",
      "RMSE: 1125.7077671251986\n",
      "R2 Square 0.9517373045646771\n",
      "__________________________________\n"
     ]
    }
   ],
   "source": [
    "rf_reg = RandomForestRegressor(n_estimators=100)\n",
    "rf_reg.fit(X_train, y_train)\n",
    "\n",
    "test_pred = rf_reg.predict(X_test)\n",
    "train_pred = rf_reg.predict(X_train)\n",
    "\n",
    "print('Test set evaluation:\\n_____________________________________')\n",
    "print_evaluate(y_test, test_pred)\n",
    "\n",
    "print('Train set evaluation:\\n_____________________________________')\n",
    "print_evaluate(y_train, train_pred)\n",
    "\n",
    "results_df_2 = pd.DataFrame(data=[[\"Random Forest Regressor\", *evaluate(y_test, test_pred), 0]], \n",
    "                            columns=['Model', 'MAE', 'MSE', 'RMSE', 'R2 Square', 'Cross Validation'])\n",
    "results_df = pd.concat([results_df, results_df_2], ignore_index=True)"
   ]
  },
  {
   "cell_type": "markdown",
   "metadata": {},
   "source": [
    "# Support Vector Machine"
   ]
  },
  {
   "cell_type": "code",
   "execution_count": null,
   "metadata": {},
   "outputs": [],
   "source": [
    "# svm_reg = SVR(kernel='rbf', C=1000, epsilon=0.001)\n",
    "# svm_reg.fit(X_train, y_train)\n",
    "\n",
    "# test_pred = svm_reg.predict(X_test)\n",
    "# train_pred = svm_reg.predict(X_train)\n",
    "\n",
    "# print('Test set evaluation:\\n_____________________________________')\n",
    "# print_evaluate(y_test, test_pred)\n",
    "\n",
    "# print('Train set evaluation:\\n_____________________________________')\n",
    "# print_evaluate(y_train, train_pred)\n",
    "\n",
    "# results_df_2 = pd.DataFrame(data=[[\"SVM Regressor\", *evaluate(y_test, test_pred), 0]], \n",
    "#                             columns=['Model', 'MAE', 'MSE', 'RMSE', 'R2 Square', 'Cross Validation'])\n",
    "# results_df = pd.concat([results_df, results_df_2], ignore_index=True)"
   ]
  },
  {
   "cell_type": "markdown",
   "metadata": {},
   "source": [
    "# Results Final"
   ]
  },
  {
   "cell_type": "code",
   "execution_count": 35,
   "metadata": {},
   "outputs": [
    {
     "data": {
      "text/html": [
       "<div>\n",
       "<style scoped>\n",
       "    .dataframe tbody tr th:only-of-type {\n",
       "        vertical-align: middle;\n",
       "    }\n",
       "\n",
       "    .dataframe tbody tr th {\n",
       "        vertical-align: top;\n",
       "    }\n",
       "\n",
       "    .dataframe thead th {\n",
       "        text-align: right;\n",
       "    }\n",
       "</style>\n",
       "<table border=\"1\" class=\"dataframe\">\n",
       "  <thead>\n",
       "    <tr style=\"text-align: right;\">\n",
       "      <th></th>\n",
       "      <th>Model</th>\n",
       "      <th>MAE</th>\n",
       "      <th>MSE</th>\n",
       "      <th>RMSE</th>\n",
       "      <th>R2 Square</th>\n",
       "      <th>Cross Validation</th>\n",
       "    </tr>\n",
       "  </thead>\n",
       "  <tbody>\n",
       "    <tr>\n",
       "      <th>0</th>\n",
       "      <td>Linear Regression</td>\n",
       "      <td>1589.661</td>\n",
       "      <td>14178064.572</td>\n",
       "      <td>3765.377</td>\n",
       "      <td>0.489</td>\n",
       "      <td>0.155</td>\n",
       "    </tr>\n",
       "    <tr>\n",
       "      <th>1</th>\n",
       "      <td>Robust Regression</td>\n",
       "      <td>37901.445</td>\n",
       "      <td>122570242990.648</td>\n",
       "      <td>350100.333</td>\n",
       "      <td>-4420.558</td>\n",
       "      <td>-4.381</td>\n",
       "    </tr>\n",
       "    <tr>\n",
       "      <th>2</th>\n",
       "      <td>Ridge Regression</td>\n",
       "      <td>1589.577</td>\n",
       "      <td>14178133.294</td>\n",
       "      <td>3765.386</td>\n",
       "      <td>0.489</td>\n",
       "      <td>0.155</td>\n",
       "    </tr>\n",
       "    <tr>\n",
       "      <th>3</th>\n",
       "      <td>Lasso Regression</td>\n",
       "      <td>1608.861</td>\n",
       "      <td>14330897.945</td>\n",
       "      <td>3785.617</td>\n",
       "      <td>0.483</td>\n",
       "      <td>0.155</td>\n",
       "    </tr>\n",
       "    <tr>\n",
       "      <th>4</th>\n",
       "      <td>Elastic Net Regression</td>\n",
       "      <td>1585.850</td>\n",
       "      <td>14181804.679</td>\n",
       "      <td>3765.874</td>\n",
       "      <td>0.488</td>\n",
       "      <td>0.167</td>\n",
       "    </tr>\n",
       "    <tr>\n",
       "      <th>5</th>\n",
       "      <td>Polynomail Regression</td>\n",
       "      <td>1228.600</td>\n",
       "      <td>9498227.940</td>\n",
       "      <td>3081.920</td>\n",
       "      <td>0.657</td>\n",
       "      <td>0.000</td>\n",
       "    </tr>\n",
       "    <tr>\n",
       "      <th>6</th>\n",
       "      <td>Stochastic Gradient Descent</td>\n",
       "      <td>1589.961</td>\n",
       "      <td>14177884.046</td>\n",
       "      <td>3765.353</td>\n",
       "      <td>0.489</td>\n",
       "      <td>0.000</td>\n",
       "    </tr>\n",
       "    <tr>\n",
       "      <th>7</th>\n",
       "      <td>Random Forest Regressor</td>\n",
       "      <td>945.929</td>\n",
       "      <td>7429326.463</td>\n",
       "      <td>2725.679</td>\n",
       "      <td>0.732</td>\n",
       "      <td>0.000</td>\n",
       "    </tr>\n",
       "  </tbody>\n",
       "</table>\n",
       "</div>"
      ],
      "text/plain": [
       "                         Model       MAE              MSE       RMSE  \\\n",
       "0            Linear Regression  1589.661     14178064.572   3765.377   \n",
       "1            Robust Regression 37901.445 122570242990.648 350100.333   \n",
       "2             Ridge Regression  1589.577     14178133.294   3765.386   \n",
       "3             Lasso Regression  1608.861     14330897.945   3785.617   \n",
       "4       Elastic Net Regression  1585.850     14181804.679   3765.874   \n",
       "5        Polynomail Regression  1228.600      9498227.940   3081.920   \n",
       "6  Stochastic Gradient Descent  1589.961     14177884.046   3765.353   \n",
       "7      Random Forest Regressor   945.929      7429326.463   2725.679   \n",
       "\n",
       "   R2 Square  Cross Validation  \n",
       "0      0.489             0.155  \n",
       "1  -4420.558            -4.381  \n",
       "2      0.489             0.155  \n",
       "3      0.483             0.155  \n",
       "4      0.488             0.167  \n",
       "5      0.657             0.000  \n",
       "6      0.489             0.000  \n",
       "7      0.732             0.000  "
      ]
     },
     "execution_count": 35,
     "metadata": {},
     "output_type": "execute_result"
    }
   ],
   "source": [
    "results_df"
   ]
  },
  {
   "cell_type": "code",
   "execution_count": 39,
   "metadata": {},
   "outputs": [
    {
     "data": {
      "text/html": [
       "<div>\n",
       "<style scoped>\n",
       "    .dataframe tbody tr th:only-of-type {\n",
       "        vertical-align: middle;\n",
       "    }\n",
       "\n",
       "    .dataframe tbody tr th {\n",
       "        vertical-align: top;\n",
       "    }\n",
       "\n",
       "    .dataframe thead th {\n",
       "        text-align: right;\n",
       "    }\n",
       "</style>\n",
       "<table border=\"1\" class=\"dataframe\">\n",
       "  <thead>\n",
       "    <tr style=\"text-align: right;\">\n",
       "      <th></th>\n",
       "      <th>Model</th>\n",
       "      <th>MAE</th>\n",
       "      <th>MSE</th>\n",
       "      <th>RMSE</th>\n",
       "      <th>R2 Square</th>\n",
       "      <th>Cross Validation</th>\n",
       "    </tr>\n",
       "  </thead>\n",
       "  <tbody>\n",
       "    <tr>\n",
       "      <th>0</th>\n",
       "      <td>Linear Regression</td>\n",
       "      <td>1589.661</td>\n",
       "      <td>14178064.572</td>\n",
       "      <td>3765.377</td>\n",
       "      <td>0.489</td>\n",
       "      <td>0.155</td>\n",
       "    </tr>\n",
       "    <tr>\n",
       "      <th>1</th>\n",
       "      <td>Ridge Regression</td>\n",
       "      <td>1589.577</td>\n",
       "      <td>14178133.294</td>\n",
       "      <td>3765.386</td>\n",
       "      <td>0.489</td>\n",
       "      <td>0.155</td>\n",
       "    </tr>\n",
       "    <tr>\n",
       "      <th>2</th>\n",
       "      <td>Lasso Regression</td>\n",
       "      <td>1608.861</td>\n",
       "      <td>14330897.945</td>\n",
       "      <td>3785.617</td>\n",
       "      <td>0.483</td>\n",
       "      <td>0.155</td>\n",
       "    </tr>\n",
       "    <tr>\n",
       "      <th>3</th>\n",
       "      <td>Elastic Net Regression</td>\n",
       "      <td>1585.850</td>\n",
       "      <td>14181804.679</td>\n",
       "      <td>3765.874</td>\n",
       "      <td>0.488</td>\n",
       "      <td>0.167</td>\n",
       "    </tr>\n",
       "    <tr>\n",
       "      <th>4</th>\n",
       "      <td>Polynomail Regression</td>\n",
       "      <td>1228.600</td>\n",
       "      <td>9498227.940</td>\n",
       "      <td>3081.920</td>\n",
       "      <td>0.657</td>\n",
       "      <td>0.000</td>\n",
       "    </tr>\n",
       "    <tr>\n",
       "      <th>5</th>\n",
       "      <td>Stochastic Gradient Descent</td>\n",
       "      <td>1589.961</td>\n",
       "      <td>14177884.046</td>\n",
       "      <td>3765.353</td>\n",
       "      <td>0.489</td>\n",
       "      <td>0.000</td>\n",
       "    </tr>\n",
       "    <tr>\n",
       "      <th>6</th>\n",
       "      <td>Random Forest Regressor</td>\n",
       "      <td>945.929</td>\n",
       "      <td>7429326.463</td>\n",
       "      <td>2725.679</td>\n",
       "      <td>0.732</td>\n",
       "      <td>0.000</td>\n",
       "    </tr>\n",
       "  </tbody>\n",
       "</table>\n",
       "</div>"
      ],
      "text/plain": [
       "                         Model      MAE          MSE     RMSE  R2 Square  \\\n",
       "0            Linear Regression 1589.661 14178064.572 3765.377      0.489   \n",
       "1             Ridge Regression 1589.577 14178133.294 3765.386      0.489   \n",
       "2             Lasso Regression 1608.861 14330897.945 3785.617      0.483   \n",
       "3       Elastic Net Regression 1585.850 14181804.679 3765.874      0.488   \n",
       "4        Polynomail Regression 1228.600  9498227.940 3081.920      0.657   \n",
       "5  Stochastic Gradient Descent 1589.961 14177884.046 3765.353      0.489   \n",
       "6      Random Forest Regressor  945.929  7429326.463 2725.679      0.732   \n",
       "\n",
       "   Cross Validation  \n",
       "0             0.155  \n",
       "1             0.155  \n",
       "2             0.155  \n",
       "3             0.167  \n",
       "4             0.000  \n",
       "5             0.000  \n",
       "6             0.000  "
      ]
     },
     "execution_count": 39,
     "metadata": {},
     "output_type": "execute_result"
    }
   ],
   "source": [
    "results_df = results_df[results_df['R2 Square'] > 0]\n",
    "results_df.reset_index()"
   ]
  },
  {
   "cell_type": "code",
   "execution_count": 41,
   "metadata": {},
   "outputs": [
    {
     "data": {
      "text/plain": [
       "<Axes: ylabel='Model'>"
      ]
     },
     "execution_count": 41,
     "metadata": {},
     "output_type": "execute_result"
    },
    {
     "data": {
      "image/png": "[encoded data removed]",
      "text/plain": [
       "<Figure size 1200x800 with 1 Axes>"
      ]
     },
     "metadata": {},
     "output_type": "display_data"
    }
   ],
   "source": [
    "results_df['R2 Square'].plot(kind='barh', figsize=(12, 8))"
   ]
  }
 ],
 "metadata": {
  "kernelspec": {
   "display_name": "VENV",
   "language": "python",
   "name": "python3"
  },
  "language_info": {
   "codemirror_mode": {
    "name": "ipython",
    "version": 3
   },
   "file_extension": ".py",
   "mimetype": "text/x-python",
   "name": "python",
   "nbconvert_exporter": "python",
   "pygments_lexer": "ipython3",
   "version": "3.12.1"
  }
 },
 "nbformat": 4,
 "nbformat_minor": 2
}
