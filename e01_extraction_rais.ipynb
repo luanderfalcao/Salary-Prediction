{
 "cells": [
  {
   "cell_type": "markdown",
   "metadata": {},
   "source": [
    "# Libraries"
   ]
  },
  {
   "cell_type": "code",
   "execution_count": 1,
   "metadata": {},
   "outputs": [],
   "source": [
    "# Basics\n",
    "import pandas as pd \n",
    "import numpy as np \n",
    "import io\n",
    "from datetime import datetime, timedelta\n",
    "\n",
    "# Visualization\n",
    "import matplotlib.pyplot as plt\n",
    "from matplotlib.lines import Line2D\n",
    "import seaborn as sns\n",
    "\n",
    "# Others\n",
    "import openpyxl\n",
    "import xlrd\n",
    "from pathlib import Path\n",
    "import os\n",
    "import warnings\n",
    "from math import isnan\n",
    "import category_encoders as ce"
   ]
  },
  {
   "cell_type": "code",
   "execution_count": 2,
   "metadata": {},
   "outputs": [],
   "source": [
    "import warnings\n",
    "warnings.filterwarnings(\"ignore\", category = DeprecationWarning) \n",
    "warnings.filterwarnings(\"ignore\", category = FutureWarning) \n",
    "warnings.filterwarnings(\"ignore\", category = UserWarning) "
   ]
  },
  {
   "cell_type": "code",
   "execution_count": 3,
   "metadata": {},
   "outputs": [],
   "source": [
    "pd.set_option(\"display.max_columns\", None)\n",
    "pd.set_option(\"display.max_rows\", None)\n",
    "pd.set_option('display.float_format', lambda x: '%.3f' % x)"
   ]
  },
  {
   "cell_type": "markdown",
   "metadata": {},
   "source": [
    "# Import Dataset "
   ]
  },
  {
   "cell_type": "code",
   "execution_count": 4,
   "metadata": {},
   "outputs": [],
   "source": [
    "path_in = r'C:\\Users\\luand\\Documents\\Projetos de ML\\Projetos de ML Origo\\Priorização de setores\\RAIS 2021'"
   ]
  },
  {
   "cell_type": "code",
   "execution_count": 5,
   "metadata": {},
   "outputs": [
    {
     "data": {
      "text/html": [
       "<div>\n",
       "<style scoped>\n",
       "    .dataframe tbody tr th:only-of-type {\n",
       "        vertical-align: middle;\n",
       "    }\n",
       "\n",
       "    .dataframe tbody tr th {\n",
       "        vertical-align: top;\n",
       "    }\n",
       "\n",
       "    .dataframe thead th {\n",
       "        text-align: right;\n",
       "    }\n",
       "</style>\n",
       "<table border=\"1\" class=\"dataframe\">\n",
       "  <thead>\n",
       "    <tr style=\"text-align: right;\">\n",
       "      <th></th>\n",
       "      <th>index</th>\n",
       "      <th>name_file</th>\n",
       "      <th>file</th>\n",
       "      <th>extension</th>\n",
       "    </tr>\n",
       "  </thead>\n",
       "  <tbody>\n",
       "    <tr>\n",
       "      <th>0</th>\n",
       "      <td>2</td>\n",
       "      <td>RAIS_VINC_PUB_MG_ES_RJ.txt</td>\n",
       "      <td>RAIS_VINC_PUB_MG_ES_RJ</td>\n",
       "      <td>txt</td>\n",
       "    </tr>\n",
       "  </tbody>\n",
       "</table>\n",
       "</div>"
      ],
      "text/plain": [
       "   index                   name_file                    file extension\n",
       "0      2  RAIS_VINC_PUB_MG_ES_RJ.txt  RAIS_VINC_PUB_MG_ES_RJ       txt"
      ]
     },
     "execution_count": 5,
     "metadata": {},
     "output_type": "execute_result"
    }
   ],
   "source": [
    "a = os.listdir(path_in)\n",
    "df = pd.DataFrame(list(a), columns=['name_file'])\n",
    "df[['file', 'extension']] = df['name_file'].str.rsplit('.', n=1, expand=True)\n",
    "df = df[(df['extension'] == 'txt')]\n",
    "df = df.reset_index()\n",
    "df.head()"
   ]
  },
  {
   "cell_type": "code",
   "execution_count": null,
   "metadata": {},
   "outputs": [],
   "source": [
    "name_file_df = df.iloc[0]['name_file']\n",
    "file_in = os.path.join(path_in, name_file_df)\n",
    "FileObjTxtv2 = pd.read_csv(file_in, sep=\";\", encoding='latin-1')"
   ]
  },
  {
   "cell_type": "code",
   "execution_count": 7,
   "metadata": {},
   "outputs": [
    {
     "data": {
      "text/plain": [
       "(14435612, 60)"
      ]
     },
     "execution_count": 7,
     "metadata": {},
     "output_type": "execute_result"
    }
   ],
   "source": [
    "FileObjTxtv2.shape"
   ]
  },
  {
   "cell_type": "markdown",
   "metadata": {},
   "source": [
    "# Processing Dataset"
   ]
  },
  {
   "cell_type": "code",
   "execution_count": 8,
   "metadata": {},
   "outputs": [
    {
     "data": {
      "text/plain": [
       "(10029292, 60)"
      ]
     },
     "execution_count": 8,
     "metadata": {},
     "output_type": "execute_result"
    }
   ],
   "source": [
    "FileObjTxtv2 = FileObjTxtv2[(FileObjTxtv2['Vínculo Ativo 31/12'] == 1)]\n",
    "FileObjTxtv2.shape"
   ]
  },
  {
   "cell_type": "code",
   "execution_count": 9,
   "metadata": {},
   "outputs": [
    {
     "data": {
      "text/plain": [
       "Index(['Bairros SP', 'Bairros Fortaleza', 'Bairros RJ', 'Causa Afastamento 1',\n",
       "       'Causa Afastamento 2', 'Causa Afastamento 3', 'Motivo Desligamento',\n",
       "       'CBO Ocupação 2002', 'CNAE 2.0 Classe', 'CNAE 95 Classe',\n",
       "       'Distritos SP', 'Vínculo Ativo 31/12', 'Faixa Etária',\n",
       "       'Faixa Hora Contrat', 'Faixa Remun Dezem (SM)',\n",
       "       'Faixa Remun Média (SM)', 'Faixa Tempo Emprego',\n",
       "       'Escolaridade após 2005', 'Qtd Hora Contr', 'Idade',\n",
       "       'Ind CEI Vinculado', 'Ind Simples', 'Mês Admissão', 'Mês Desligamento',\n",
       "       'Mun Trab', 'Município', 'Nacionalidade', 'Natureza Jurídica',\n",
       "       'Ind Portador Defic', 'Qtd Dias Afastamento', 'Raça Cor',\n",
       "       'Regiões Adm DF', 'Vl Remun Dezembro Nom', 'Vl Remun Dezembro (SM)',\n",
       "       'Vl Remun Média Nom', 'Vl Remun Média (SM)', 'CNAE 2.0 Subclasse',\n",
       "       'Sexo Trabalhador', 'Tamanho Estabelecimento', 'Tempo Emprego',\n",
       "       'Tipo Admissão', 'Tipo Estab', 'Tipo Estab.1', 'Tipo Defic',\n",
       "       'Tipo Vínculo', 'IBGE Subsetor', 'Vl Rem Janeiro SC',\n",
       "       'Vl Rem Fevereiro SC', 'Vl Rem Março SC', 'Vl Rem Abril SC',\n",
       "       'Vl Rem Maio SC', 'Vl Rem Junho SC', 'Vl Rem Julho SC',\n",
       "       'Vl Rem Agosto SC', 'Vl Rem Setembro SC', 'Vl Rem Outubro SC',\n",
       "       'Vl Rem Novembro SC', 'Ano Chegada Brasil', 'Ind Trab Intermitente',\n",
       "       'Ind Trab Parcial'],\n",
       "      dtype='object')"
      ]
     },
     "execution_count": 9,
     "metadata": {},
     "output_type": "execute_result"
    }
   ],
   "source": [
    "FileObjTxtv2.columns"
   ]
  },
  {
   "cell_type": "code",
   "execution_count": 10,
   "metadata": {},
   "outputs": [
    {
     "data": {
      "text/plain": [
       "(10029292, 42)"
      ]
     },
     "execution_count": 10,
     "metadata": {},
     "output_type": "execute_result"
    }
   ],
   "source": [
    "FileObjTxtv2 = FileObjTxtv2[[\n",
    "       'CBO Ocupação 2002', \n",
    "       'Vínculo Ativo 31/12', 'Faixa Etária',\n",
    "       'Faixa Hora Contrat', 'Faixa Remun Dezem (SM)',\n",
    "       'Faixa Remun Média (SM)', 'Faixa Tempo Emprego',\n",
    "       'Escolaridade após 2005', 'Qtd Hora Contr', 'Idade',\n",
    "       'Ind CEI Vinculado', 'Ind Simples', \n",
    "       'Município', 'Natureza Jurídica',\n",
    "       'Ind Portador Defic', 'Qtd Dias Afastamento', 'Raça Cor',\n",
    "       'Vl Remun Dezembro Nom', 'Vl Remun Dezembro (SM)',\n",
    "       'Vl Remun Média Nom', 'Vl Remun Média (SM)', 'CNAE 2.0 Subclasse',\n",
    "       'Sexo Trabalhador', 'Tamanho Estabelecimento', 'Tempo Emprego',\n",
    "       'Tipo Admissão', 'Tipo Defic',\n",
    "       'Tipo Vínculo', 'IBGE Subsetor', 'Vl Rem Janeiro SC',\n",
    "       'Vl Rem Fevereiro SC', 'Vl Rem Março SC', 'Vl Rem Abril SC',\n",
    "       'Vl Rem Maio SC', 'Vl Rem Junho SC', 'Vl Rem Julho SC',\n",
    "       'Vl Rem Agosto SC', 'Vl Rem Setembro SC', 'Vl Rem Outubro SC',\n",
    "       'Vl Rem Novembro SC', 'Ind Trab Intermitente',\n",
    "       'Ind Trab Parcial']]\n",
    "FileObjTxtv2.shape"
   ]
  },
  {
   "cell_type": "code",
   "execution_count": 11,
   "metadata": {},
   "outputs": [
    {
     "data": {
      "text/plain": [
       "(1223051, 43)"
      ]
     },
     "execution_count": 11,
     "metadata": {},
     "output_type": "execute_result"
    }
   ],
   "source": [
    "# Selecionado apenas as Divisões da Indústria de Transformação\n",
    "lst_IND = [10, 11, 12, 13, 14, 15, 16, 17, 18, 19, 20, 21, 22, 23, 24, 25, 26, 27, 28, 29, 30, 31, 32, 33]\n",
    "FileObjTxtv2['DIV_CNAE'] = round(((FileObjTxtv2['CNAE 2.0 Subclasse']/100000) - ((FileObjTxtv2['CNAE 2.0 Subclasse']%100000)/100000)), 4)\n",
    "FileObjTxtv2 = FileObjTxtv2[(FileObjTxtv2['DIV_CNAE'].isin(lst_IND))]\n",
    "FileObjTxtv2.shape"
   ]
  },
  {
   "cell_type": "code",
   "execution_count": 12,
   "metadata": {},
   "outputs": [
    {
     "data": {
      "text/html": [
       "<div>\n",
       "<style scoped>\n",
       "    .dataframe tbody tr th:only-of-type {\n",
       "        vertical-align: middle;\n",
       "    }\n",
       "\n",
       "    .dataframe tbody tr th {\n",
       "        vertical-align: top;\n",
       "    }\n",
       "\n",
       "    .dataframe thead th {\n",
       "        text-align: right;\n",
       "    }\n",
       "</style>\n",
       "<table border=\"1\" class=\"dataframe\">\n",
       "  <thead>\n",
       "    <tr style=\"text-align: right;\">\n",
       "      <th></th>\n",
       "      <th>CNAE 2.0 Subclasse</th>\n",
       "      <th>N</th>\n",
       "    </tr>\n",
       "  </thead>\n",
       "  <tbody>\n",
       "    <tr>\n",
       "      <th>0</th>\n",
       "      <td>1412601</td>\n",
       "      <td>51429</td>\n",
       "    </tr>\n",
       "    <tr>\n",
       "      <th>1</th>\n",
       "      <td>3101200</td>\n",
       "      <td>35166</td>\n",
       "    </tr>\n",
       "    <tr>\n",
       "      <th>2</th>\n",
       "      <td>1052000</td>\n",
       "      <td>30783</td>\n",
       "    </tr>\n",
       "    <tr>\n",
       "      <th>3</th>\n",
       "      <td>2422901</td>\n",
       "      <td>26157</td>\n",
       "    </tr>\n",
       "    <tr>\n",
       "      <th>4</th>\n",
       "      <td>1012101</td>\n",
       "      <td>25568</td>\n",
       "    </tr>\n",
       "    <tr>\n",
       "      <th>5</th>\n",
       "      <td>1091102</td>\n",
       "      <td>25238</td>\n",
       "    </tr>\n",
       "    <tr>\n",
       "      <th>6</th>\n",
       "      <td>1411801</td>\n",
       "      <td>24253</td>\n",
       "    </tr>\n",
       "    <tr>\n",
       "      <th>7</th>\n",
       "      <td>2949299</td>\n",
       "      <td>23271</td>\n",
       "    </tr>\n",
       "    <tr>\n",
       "      <th>8</th>\n",
       "      <td>2391503</td>\n",
       "      <td>21693</td>\n",
       "    </tr>\n",
       "    <tr>\n",
       "      <th>9</th>\n",
       "      <td>1071600</td>\n",
       "      <td>20905</td>\n",
       "    </tr>\n",
       "    <tr>\n",
       "      <th>10</th>\n",
       "      <td>1011201</td>\n",
       "      <td>18152</td>\n",
       "    </tr>\n",
       "    <tr>\n",
       "      <th>11</th>\n",
       "      <td>1931400</td>\n",
       "      <td>16519</td>\n",
       "    </tr>\n",
       "    <tr>\n",
       "      <th>12</th>\n",
       "      <td>2222600</td>\n",
       "      <td>16448</td>\n",
       "    </tr>\n",
       "    <tr>\n",
       "      <th>13</th>\n",
       "      <td>1099699</td>\n",
       "      <td>15705</td>\n",
       "    </tr>\n",
       "    <tr>\n",
       "      <th>14</th>\n",
       "      <td>1091101</td>\n",
       "      <td>15212</td>\n",
       "    </tr>\n",
       "    <tr>\n",
       "      <th>15</th>\n",
       "      <td>2121101</td>\n",
       "      <td>14568</td>\n",
       "    </tr>\n",
       "    <tr>\n",
       "      <th>16</th>\n",
       "      <td>2511000</td>\n",
       "      <td>14420</td>\n",
       "    </tr>\n",
       "    <tr>\n",
       "      <th>17</th>\n",
       "      <td>2910701</td>\n",
       "      <td>14354</td>\n",
       "    </tr>\n",
       "    <tr>\n",
       "      <th>18</th>\n",
       "      <td>1921700</td>\n",
       "      <td>14234</td>\n",
       "    </tr>\n",
       "    <tr>\n",
       "      <th>19</th>\n",
       "      <td>2342702</td>\n",
       "      <td>14195</td>\n",
       "    </tr>\n",
       "    <tr>\n",
       "      <th>20</th>\n",
       "      <td>2423702</td>\n",
       "      <td>13835</td>\n",
       "    </tr>\n",
       "    <tr>\n",
       "      <th>21</th>\n",
       "      <td>1012103</td>\n",
       "      <td>12824</td>\n",
       "    </tr>\n",
       "    <tr>\n",
       "      <th>22</th>\n",
       "      <td>2599399</td>\n",
       "      <td>12691</td>\n",
       "    </tr>\n",
       "    <tr>\n",
       "      <th>23</th>\n",
       "      <td>1013901</td>\n",
       "      <td>12559</td>\n",
       "    </tr>\n",
       "    <tr>\n",
       "      <th>24</th>\n",
       "      <td>1066000</td>\n",
       "      <td>12359</td>\n",
       "    </tr>\n",
       "    <tr>\n",
       "      <th>25</th>\n",
       "      <td>2451200</td>\n",
       "      <td>12247</td>\n",
       "    </tr>\n",
       "    <tr>\n",
       "      <th>26</th>\n",
       "      <td>2411300</td>\n",
       "      <td>11471</td>\n",
       "    </tr>\n",
       "    <tr>\n",
       "      <th>27</th>\n",
       "      <td>1412603</td>\n",
       "      <td>10540</td>\n",
       "    </tr>\n",
       "    <tr>\n",
       "      <th>28</th>\n",
       "      <td>3321000</td>\n",
       "      <td>10261</td>\n",
       "    </tr>\n",
       "    <tr>\n",
       "      <th>29</th>\n",
       "      <td>1359600</td>\n",
       "      <td>10026</td>\n",
       "    </tr>\n",
       "    <tr>\n",
       "      <th>30</th>\n",
       "      <td>2063100</td>\n",
       "      <td>9421</td>\n",
       "    </tr>\n",
       "    <tr>\n",
       "      <th>31</th>\n",
       "      <td>1113502</td>\n",
       "      <td>9055</td>\n",
       "    </tr>\n",
       "    <tr>\n",
       "      <th>32</th>\n",
       "      <td>3011301</td>\n",
       "      <td>8812</td>\n",
       "    </tr>\n",
       "    <tr>\n",
       "      <th>33</th>\n",
       "      <td>2542000</td>\n",
       "      <td>8565</td>\n",
       "    </tr>\n",
       "    <tr>\n",
       "      <th>34</th>\n",
       "      <td>3314710</td>\n",
       "      <td>8527</td>\n",
       "    </tr>\n",
       "    <tr>\n",
       "      <th>35</th>\n",
       "      <td>2539001</td>\n",
       "      <td>8246</td>\n",
       "    </tr>\n",
       "    <tr>\n",
       "      <th>36</th>\n",
       "      <td>1092900</td>\n",
       "      <td>8210</td>\n",
       "    </tr>\n",
       "    <tr>\n",
       "      <th>37</th>\n",
       "      <td>1539400</td>\n",
       "      <td>8078</td>\n",
       "    </tr>\n",
       "    <tr>\n",
       "      <th>38</th>\n",
       "      <td>2512800</td>\n",
       "      <td>8026</td>\n",
       "    </tr>\n",
       "    <tr>\n",
       "      <th>39</th>\n",
       "      <td>2412100</td>\n",
       "      <td>7894</td>\n",
       "    </tr>\n",
       "    <tr>\n",
       "      <th>40</th>\n",
       "      <td>1351100</td>\n",
       "      <td>7724</td>\n",
       "    </tr>\n",
       "    <tr>\n",
       "      <th>41</th>\n",
       "      <td>2330302</td>\n",
       "      <td>6986</td>\n",
       "    </tr>\n",
       "    <tr>\n",
       "      <th>42</th>\n",
       "      <td>3314799</td>\n",
       "      <td>6890</td>\n",
       "    </tr>\n",
       "    <tr>\n",
       "      <th>43</th>\n",
       "      <td>3250705</td>\n",
       "      <td>6848</td>\n",
       "    </tr>\n",
       "    <tr>\n",
       "      <th>44</th>\n",
       "      <td>2219600</td>\n",
       "      <td>6765</td>\n",
       "    </tr>\n",
       "    <tr>\n",
       "      <th>45</th>\n",
       "      <td>2229399</td>\n",
       "      <td>6746</td>\n",
       "    </tr>\n",
       "    <tr>\n",
       "      <th>46</th>\n",
       "      <td>2229302</td>\n",
       "      <td>6351</td>\n",
       "    </tr>\n",
       "    <tr>\n",
       "      <th>47</th>\n",
       "      <td>1094500</td>\n",
       "      <td>6187</td>\n",
       "    </tr>\n",
       "    <tr>\n",
       "      <th>48</th>\n",
       "      <td>1321900</td>\n",
       "      <td>5914</td>\n",
       "    </tr>\n",
       "    <tr>\n",
       "      <th>49</th>\n",
       "      <td>2013402</td>\n",
       "      <td>5899</td>\n",
       "    </tr>\n",
       "  </tbody>\n",
       "</table>\n",
       "</div>"
      ],
      "text/plain": [
       "    CNAE 2.0 Subclasse      N\n",
       "0              1412601  51429\n",
       "1              3101200  35166\n",
       "2              1052000  30783\n",
       "3              2422901  26157\n",
       "4              1012101  25568\n",
       "5              1091102  25238\n",
       "6              1411801  24253\n",
       "7              2949299  23271\n",
       "8              2391503  21693\n",
       "9              1071600  20905\n",
       "10             1011201  18152\n",
       "11             1931400  16519\n",
       "12             2222600  16448\n",
       "13             1099699  15705\n",
       "14             1091101  15212\n",
       "15             2121101  14568\n",
       "16             2511000  14420\n",
       "17             2910701  14354\n",
       "18             1921700  14234\n",
       "19             2342702  14195\n",
       "20             2423702  13835\n",
       "21             1012103  12824\n",
       "22             2599399  12691\n",
       "23             1013901  12559\n",
       "24             1066000  12359\n",
       "25             2451200  12247\n",
       "26             2411300  11471\n",
       "27             1412603  10540\n",
       "28             3321000  10261\n",
       "29             1359600  10026\n",
       "30             2063100   9421\n",
       "31             1113502   9055\n",
       "32             3011301   8812\n",
       "33             2542000   8565\n",
       "34             3314710   8527\n",
       "35             2539001   8246\n",
       "36             1092900   8210\n",
       "37             1539400   8078\n",
       "38             2512800   8026\n",
       "39             2412100   7894\n",
       "40             1351100   7724\n",
       "41             2330302   6986\n",
       "42             3314799   6890\n",
       "43             3250705   6848\n",
       "44             2219600   6765\n",
       "45             2229399   6746\n",
       "46             2229302   6351\n",
       "47             1094500   6187\n",
       "48             1321900   5914\n",
       "49             2013402   5899"
      ]
     },
     "execution_count": 12,
     "metadata": {},
     "output_type": "execute_result"
    }
   ],
   "source": [
    "Subclasse = FileObjTxtv2.groupby(['CNAE 2.0 Subclasse']).agg(N = ('Vínculo Ativo 31/12', 'count'))\n",
    "Subclasse = Subclasse.sort_values(['N'], ascending = [False]).reset_index()\n",
    "Subclasse.head(50)"
   ]
  },
  {
   "cell_type": "code",
   "execution_count": 13,
   "metadata": {},
   "outputs": [
    {
     "data": {
      "text/plain": [
       "(405, 2)"
      ]
     },
     "execution_count": 13,
     "metadata": {},
     "output_type": "execute_result"
    }
   ],
   "source": [
    "Subclasse.shape"
   ]
  },
  {
   "cell_type": "code",
   "execution_count": 14,
   "metadata": {},
   "outputs": [],
   "source": [
    "# Subclasse = Subclasse[(Subclasse['N'] > 30000)]\n",
    "# Subclasse = Subclasse[(Subclasse['N'] < 85000)]\n",
    "# Subclasse['N'].sum(), Subclasse.shape"
   ]
  },
  {
   "cell_type": "code",
   "execution_count": 10,
   "metadata": {},
   "outputs": [],
   "source": [
    "# name_list = Subclasse['CNAE 2.0 Subclasse'].values.tolist()"
   ]
  },
  {
   "cell_type": "code",
   "execution_count": 11,
   "metadata": {},
   "outputs": [
    {
     "data": {
      "text/plain": [
       "(2114982, 43)"
      ]
     },
     "execution_count": 11,
     "metadata": {},
     "output_type": "execute_result"
    }
   ],
   "source": [
    "# FileObjTxtv2 = FileObjTxtv2[(FileObjTxtv2['CNAE 2.0 Subclasse'].isin(name_list))]\n",
    "# FileObjTxtv2.shape"
   ]
  },
  {
   "cell_type": "code",
   "execution_count": 15,
   "metadata": {},
   "outputs": [
    {
     "data": {
      "text/plain": [
       "Index(['CBO_Ocupação_2002', 'Vínculo_Ativo_31/12', 'Faixa_Etária',\n",
       "       'Faixa_Hora_Contrat', 'Faixa_Remun_Dezem_(SM)',\n",
       "       'Faixa_Remun_Média_(SM)', 'Faixa_Tempo_Emprego',\n",
       "       'Escolaridade_após_2005', 'Qtd_Hora_Contr', 'Idade',\n",
       "       'Ind_CEI_Vinculado', 'Ind_Simples', 'Município', 'Natureza_Jurídica',\n",
       "       'Ind_Portador_Defic', 'Qtd_Dias_Afastamento', 'Raça_Cor',\n",
       "       'Vl_Remun_Dezembro_Nom', 'Vl_Remun_Dezembro_(SM)', 'Vl_Remun_Média_Nom',\n",
       "       'Vl_Remun_Média_(SM)', 'CNAE_2.0_Subclasse', 'Sexo_Trabalhador',\n",
       "       'Tamanho_Estabelecimento', 'Tempo_Emprego', 'Tipo_Admissão',\n",
       "       'Tipo_Defic', 'Tipo_Vínculo', 'IBGE_Subsetor', 'Vl_Rem_Janeiro_SC',\n",
       "       'Vl_Rem_Fevereiro_SC', 'Vl_Rem_Março_SC', 'Vl_Rem_Abril_SC',\n",
       "       'Vl_Rem_Maio_SC', 'Vl_Rem_Junho_SC', 'Vl_Rem_Julho_SC',\n",
       "       'Vl_Rem_Agosto_SC', 'Vl_Rem_Setembro_SC', 'Vl_Rem_Outubro_SC',\n",
       "       'Vl_Rem_Novembro_SC', 'Ind_Trab_Intermitente', 'Ind_Trab_Parcial',\n",
       "       'DIV_CNAE'],\n",
       "      dtype='object')"
      ]
     },
     "execution_count": 15,
     "metadata": {},
     "output_type": "execute_result"
    }
   ],
   "source": [
    "FileObjTxtv2.columns = FileObjTxtv2.columns.str.replace(\" \", \"_\", regex=True)\n",
    "FileObjTxtv2.columns"
   ]
  },
  {
   "cell_type": "code",
   "execution_count": 16,
   "metadata": {},
   "outputs": [],
   "source": [
    "FileObjTxtv2 = FileObjTxtv2[['CBO_Ocupação_2002', 'Vínculo_Ativo_31/12', 'Faixa_Etária', 'Faixa_Hora_Contrat', 'Faixa_Remun_Dezem_(SM)',\n",
    "                             'Faixa_Remun_Média_(SM)', 'Faixa_Tempo_Emprego', 'Escolaridade_após_2005', 'Qtd_Hora_Contr', 'Idade', 'Ind_Simples', \n",
    "                             'Município', 'Natureza_Jurídica', 'Ind_Portador_Defic', 'Qtd_Dias_Afastamento', 'Raça_Cor',\n",
    "                             'Vl_Remun_Dezembro_Nom', 'Vl_Remun_Dezembro_(SM)', 'Vl_Remun_Média_Nom', 'Vl_Remun_Média_(SM)', 'CNAE_2.0_Subclasse',\n",
    "                             'Sexo_Trabalhador', 'Tamanho_Estabelecimento', 'Tempo_Emprego', 'Tipo_Admissão', 'Tipo_Defic',\n",
    "                             'Tipo_Vínculo', 'IBGE_Subsetor', \n",
    "                             'Vl_Rem_Janeiro_SC', 'Vl_Rem_Fevereiro_SC', 'Vl_Rem_Março_SC', 'Vl_Rem_Abril_SC', 'Vl_Rem_Maio_SC', 'Vl_Rem_Junho_SC', \n",
    "                             'Vl_Rem_Julho_SC', 'Vl_Rem_Agosto_SC', 'Vl_Rem_Setembro_SC', 'Vl_Rem_Outubro_SC', 'Vl_Rem_Novembro_SC', \n",
    "                             'Ind_Trab_Intermitente', 'Ind_Trab_Parcial']]"
   ]
  },
  {
   "cell_type": "code",
   "execution_count": 17,
   "metadata": {},
   "outputs": [],
   "source": [
    "file_path = Path(r\"C:\\Users\\luand\\Documents\\Projetos de ML\\Salary-Prediction\\RAIS_VINC_PUB_MG_ES_RJ_Vinculo_0.csv\")\n",
    "FileObjTxtv2.to_csv(file_path, sep=';', index=False)"
   ]
  }
 ],
 "metadata": {
  "kernelspec": {
   "display_name": "PRJ_OTIM_PRICING",
   "language": "python",
   "name": "python3"
  },
  "language_info": {
   "codemirror_mode": {
    "name": "ipython",
    "version": 3
   },
   "file_extension": ".py",
   "mimetype": "text/x-python",
   "name": "python",
   "nbconvert_exporter": "python",
   "pygments_lexer": "ipython3",
   "version": "3.12.1"
  }
 },
 "nbformat": 4,
 "nbformat_minor": 2
}
